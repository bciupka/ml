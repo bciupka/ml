{
 "cells": [
  {
   "cell_type": "code",
   "execution_count": 3,
   "id": "2a9cfabc-063b-4d99-8ae0-78fd64cf1b84",
   "metadata": {},
   "outputs": [],
   "source": [
    "import numpy as np"
   ]
  },
  {
   "cell_type": "code",
   "execution_count": 4,
   "id": "300fc7c3-bf76-4ed2-893b-24f8e2f0d7e3",
   "metadata": {},
   "outputs": [
    {
     "data": {
      "text/plain": [
       "array([ 5,  7,  9, 11, 13, 15, 17, 19, 21, 23, 25, 27, 29])"
      ]
     },
     "execution_count": 4,
     "metadata": {},
     "output_type": "execute_result"
    }
   ],
   "source": [
    "arr = np.arange(5, 30, 2)\n",
    "arr"
   ]
  },
  {
   "cell_type": "code",
   "execution_count": 5,
   "id": "6dc3c4f8-e112-46f9-bea8-527b45e50174",
   "metadata": {},
   "outputs": [
    {
     "data": {
      "text/plain": [
       "array([ True,  True,  True, False, False, False, False, False, False,\n",
       "       False, False, False, False])"
      ]
     },
     "execution_count": 5,
     "metadata": {},
     "output_type": "execute_result"
    }
   ],
   "source": [
    "arr < 10"
   ]
  },
  {
   "cell_type": "code",
   "execution_count": 6,
   "id": "30cec0b2-33ce-48e4-9a07-53a751ab259b",
   "metadata": {},
   "outputs": [
    {
     "data": {
      "text/plain": [
       "array([ True,  True,  True, False, False, False, False, False, False,\n",
       "       False, False, False, False])"
      ]
     },
     "execution_count": 6,
     "metadata": {},
     "output_type": "execute_result"
    }
   ],
   "source": [
    "boolArr = arr < 10\n",
    "boolArr"
   ]
  },
  {
   "cell_type": "code",
   "execution_count": 7,
   "id": "187e4bd1-7720-4575-826c-e7b226e49876",
   "metadata": {},
   "outputs": [
    {
     "data": {
      "text/plain": [
       "array([5, 7, 9])"
      ]
     },
     "execution_count": 7,
     "metadata": {},
     "output_type": "execute_result"
    }
   ],
   "source": [
    "arr[boolArr]"
   ]
  },
  {
   "cell_type": "code",
   "execution_count": 8,
   "id": "198611e2-f1c9-4ec4-a70c-166193e7dc75",
   "metadata": {},
   "outputs": [
    {
     "data": {
      "text/plain": [
       "array([ 5,  7,  9, 11, 13, 15, 17, 19])"
      ]
     },
     "execution_count": 8,
     "metadata": {},
     "output_type": "execute_result"
    }
   ],
   "source": [
    "arr[arr < 20]"
   ]
  },
  {
   "cell_type": "code",
   "execution_count": 9,
   "id": "2302ad22-3518-48a8-afc9-5223569966b9",
   "metadata": {},
   "outputs": [
    {
     "data": {
      "text/plain": [
       "array([ 9, 15, 21, 27])"
      ]
     },
     "execution_count": 9,
     "metadata": {},
     "output_type": "execute_result"
    }
   ],
   "source": [
    "arr[arr % 3 == 0]"
   ]
  },
  {
   "cell_type": "code",
   "execution_count": 10,
   "id": "fa91bccc-d7ae-4c42-a0b5-dc505ac51ea4",
   "metadata": {},
   "outputs": [
    {
     "data": {
      "text/plain": [
       "array([11, 13, 15, 17, 19])"
      ]
     },
     "execution_count": 10,
     "metadata": {},
     "output_type": "execute_result"
    }
   ],
   "source": [
    "arr[(arr > 10) & (arr < 20)]"
   ]
  },
  {
   "cell_type": "code",
   "execution_count": 11,
   "id": "892e0ee9-0e3d-4108-a735-8ee629a705f3",
   "metadata": {},
   "outputs": [
    {
     "data": {
      "text/plain": [
       "array([ 0,  1,  2,  3,  4,  5,  6,  7,  8,  9, 10, 11, 12, 13, 14, 15, 16,\n",
       "       17, 18, 19, 20, 21, 22, 23])"
      ]
     },
     "execution_count": 11,
     "metadata": {},
     "output_type": "execute_result"
    }
   ],
   "source": [
    "newArray = np.arange(0, 24)\n",
    "newArray"
   ]
  },
  {
   "cell_type": "code",
   "execution_count": 13,
   "id": "df8e57f6-da0d-48cb-9b4d-ff39c7e37163",
   "metadata": {},
   "outputs": [
    {
     "data": {
      "text/plain": [
       "array([[ 0,  1,  2,  3,  4,  5],\n",
       "       [ 6,  7,  8,  9, 10, 11],\n",
       "       [12, 13, 14, 15, 16, 17],\n",
       "       [18, 19, 20, 21, 22, 23]])"
      ]
     },
     "execution_count": 13,
     "metadata": {},
     "output_type": "execute_result"
    }
   ],
   "source": [
    "newArray = newArray.reshape(4,6)\n",
    "newArray"
   ]
  },
  {
   "cell_type": "code",
   "execution_count": 16,
   "id": "fa0952d8-e422-401c-b56e-27ab1ead250e",
   "metadata": {},
   "outputs": [
    {
     "data": {
      "text/plain": [
       "array([ 6,  7,  8,  9, 10, 11])"
      ]
     },
     "execution_count": 16,
     "metadata": {},
     "output_type": "execute_result"
    }
   ],
   "source": [
    "newArray[1,:]"
   ]
  },
  {
   "cell_type": "code",
   "execution_count": 17,
   "id": "e72a0d62-159f-4dc2-9745-e2b3b27d2df0",
   "metadata": {},
   "outputs": [
    {
     "data": {
      "text/plain": [
       "8"
      ]
     },
     "execution_count": 17,
     "metadata": {},
     "output_type": "execute_result"
    }
   ],
   "source": [
    "newArray[1, 2]"
   ]
  },
  {
   "cell_type": "code",
   "execution_count": 19,
   "id": "2d0ca42e-9bae-4524-a0b9-64a434cf4305",
   "metadata": {},
   "outputs": [
    {
     "data": {
      "text/plain": [
       "array([8, 9])"
      ]
     },
     "execution_count": 19,
     "metadata": {},
     "output_type": "execute_result"
    }
   ],
   "source": [
    "newArray[1,2:4]"
   ]
  },
  {
   "cell_type": "code",
   "execution_count": 20,
   "id": "277ab6d7-bcd2-4e0a-bbfd-437bc8c2f1b9",
   "metadata": {},
   "outputs": [
    {
     "data": {
      "text/plain": [
       "array([ 8,  9, 10])"
      ]
     },
     "execution_count": 20,
     "metadata": {},
     "output_type": "execute_result"
    }
   ],
   "source": [
    "newArray[1,2:5]"
   ]
  },
  {
   "cell_type": "code",
   "execution_count": 21,
   "id": "73971455-5416-435e-8faa-cf265a2271f4",
   "metadata": {},
   "outputs": [
    {
     "data": {
      "text/plain": [
       "array([ 6,  7,  8,  9, 10, 11])"
      ]
     },
     "execution_count": 21,
     "metadata": {},
     "output_type": "execute_result"
    }
   ],
   "source": [
    "newArray[1]"
   ]
  },
  {
   "cell_type": "code",
   "execution_count": 23,
   "id": "738ba7bb-8703-442d-a707-e6a198ef829e",
   "metadata": {},
   "outputs": [
    {
     "data": {
      "text/plain": [
       "array([ 2,  8, 14])"
      ]
     },
     "execution_count": 23,
     "metadata": {},
     "output_type": "execute_result"
    }
   ],
   "source": [
    "newArray[0:3, 2]"
   ]
  },
  {
   "cell_type": "code",
   "execution_count": 24,
   "id": "2716b2a7-d398-45fd-8b21-a72af3f8d2ef",
   "metadata": {},
   "outputs": [
    {
     "data": {
      "text/plain": [
       "array([2, 8])"
      ]
     },
     "execution_count": 24,
     "metadata": {},
     "output_type": "execute_result"
    }
   ],
   "source": [
    "newArray[:2, 2]"
   ]
  },
  {
   "cell_type": "code",
   "execution_count": 25,
   "id": "bda3ba9e-b2af-491a-ab26-cbc6fcfd511a",
   "metadata": {},
   "outputs": [
    {
     "data": {
      "text/plain": [
       "array([[2, 3],\n",
       "       [8, 9]])"
      ]
     },
     "execution_count": 25,
     "metadata": {},
     "output_type": "execute_result"
    }
   ],
   "source": [
    "newArray[:2, 2:4]"
   ]
  },
  {
   "cell_type": "code",
   "execution_count": 26,
   "id": "511f8199-eabd-4c38-bd2b-858653296370",
   "metadata": {},
   "outputs": [
    {
     "data": {
      "text/plain": [
       "array([ 5, 11, 17, 23])"
      ]
     },
     "execution_count": 26,
     "metadata": {},
     "output_type": "execute_result"
    }
   ],
   "source": [
    "newArray[:, -1]"
   ]
  },
  {
   "cell_type": "code",
   "execution_count": 27,
   "id": "55850d8e-e0e8-49d8-b00e-351dabca6b74",
   "metadata": {},
   "outputs": [
    {
     "data": {
      "text/plain": [
       "array([[ 0,  1,  2,  3,  4],\n",
       "       [ 6,  7,  8,  9, 10],\n",
       "       [12, 13, 14, 15, 16],\n",
       "       [18, 19, 20, 21, 22]])"
      ]
     },
     "execution_count": 27,
     "metadata": {},
     "output_type": "execute_result"
    }
   ],
   "source": [
    "newArray[:, :-1]"
   ]
  },
  {
   "cell_type": "code",
   "execution_count": 28,
   "id": "2a053f9a-be8d-47f5-831a-f84cf5f0bbfc",
   "metadata": {},
   "outputs": [
    {
     "data": {
      "text/plain": [
       "array([[ 0,  1,  2,  3,  4],\n",
       "       [ 5,  6,  7,  8,  9],\n",
       "       [10, 11, 12, 13, 14],\n",
       "       [15, 16, 17, 18, 19],\n",
       "       [20, 21, 22, 23, 24],\n",
       "       [25, 26, 27, 28, 29],\n",
       "       [30, 31, 32, 33, 34],\n",
       "       [35, 36, 37, 38, 39],\n",
       "       [40, 41, 42, 43, 44],\n",
       "       [45, 46, 47, 48, 49]])"
      ]
     },
     "execution_count": 28,
     "metadata": {},
     "output_type": "execute_result"
    }
   ],
   "source": [
    "anotherArr = np.arange(0,50).reshape(10,5)\n",
    "anotherArr"
   ]
  },
  {
   "cell_type": "code",
   "execution_count": 29,
   "id": "2f035968-8120-4a5b-890e-fefa83230da7",
   "metadata": {},
   "outputs": [],
   "source": [
    "split_ratio = 0.2\n",
    "n_of_rows = anotherArr.shape[0]\n",
    "split_border = split_ratio * n_of_rows"
   ]
  },
  {
   "cell_type": "code",
   "execution_count": 30,
   "id": "c41ab596-b61c-4add-8529-afe080f26d93",
   "metadata": {},
   "outputs": [
    {
     "data": {
      "text/plain": [
       "array([[0, 1, 2, 3, 4],\n",
       "       [5, 6, 7, 8, 9]])"
      ]
     },
     "execution_count": 30,
     "metadata": {},
     "output_type": "execute_result"
    }
   ],
   "source": [
    "anotherArr[:round(split_border), :]"
   ]
  },
  {
   "cell_type": "code",
   "execution_count": 31,
   "id": "817c4807-063a-4b58-9b34-6c43d38a5573",
   "metadata": {},
   "outputs": [
    {
     "data": {
      "text/plain": [
       "array([[10, 11, 12, 13, 14],\n",
       "       [15, 16, 17, 18, 19],\n",
       "       [20, 21, 22, 23, 24],\n",
       "       [25, 26, 27, 28, 29],\n",
       "       [30, 31, 32, 33, 34],\n",
       "       [35, 36, 37, 38, 39],\n",
       "       [40, 41, 42, 43, 44],\n",
       "       [45, 46, 47, 48, 49]])"
      ]
     },
     "execution_count": 31,
     "metadata": {},
     "output_type": "execute_result"
    }
   ],
   "source": [
    "anotherArr[round(split_border):, :]"
   ]
  },
  {
   "cell_type": "code",
   "execution_count": 36,
   "id": "36cae9f9-3c41-4701-9130-181f9cab5ed5",
   "metadata": {},
   "outputs": [],
   "source": [
    "np.random.shuffle(anotherArr)"
   ]
  },
  {
   "cell_type": "code",
   "execution_count": 37,
   "id": "a7a4a8ed-e2a4-4bf3-9d42-763e7e42243e",
   "metadata": {},
   "outputs": [
    {
     "data": {
      "text/plain": [
       "array([[ 0,  1,  2,  3,  4],\n",
       "       [25, 26, 27, 28, 29],\n",
       "       [35, 36, 37, 38, 39],\n",
       "       [45, 46, 47, 48, 49],\n",
       "       [ 5,  6,  7,  8,  9],\n",
       "       [20, 21, 22, 23, 24],\n",
       "       [30, 31, 32, 33, 34],\n",
       "       [10, 11, 12, 13, 14],\n",
       "       [15, 16, 17, 18, 19],\n",
       "       [40, 41, 42, 43, 44]])"
      ]
     },
     "execution_count": 37,
     "metadata": {},
     "output_type": "execute_result"
    }
   ],
   "source": [
    "anotherArr"
   ]
  },
  {
   "cell_type": "code",
   "execution_count": 38,
   "id": "a15f773e-46ae-4210-a863-8d95d85c09a1",
   "metadata": {},
   "outputs": [
    {
     "data": {
      "text/plain": [
       "array([[ 0,  1,  2,  3,  4],\n",
       "       [25, 26, 27, 28, 29]])"
      ]
     },
     "execution_count": 38,
     "metadata": {},
     "output_type": "execute_result"
    }
   ],
   "source": [
    "anotherArr[:round(split_border), :]"
   ]
  },
  {
   "cell_type": "code",
   "execution_count": 39,
   "id": "09605bab-059a-4061-9768-96bf753b0ac7",
   "metadata": {},
   "outputs": [
    {
     "data": {
      "text/plain": [
       "array([[35, 36, 37, 38, 39],\n",
       "       [45, 46, 47, 48, 49],\n",
       "       [ 5,  6,  7,  8,  9],\n",
       "       [20, 21, 22, 23, 24],\n",
       "       [30, 31, 32, 33, 34],\n",
       "       [10, 11, 12, 13, 14],\n",
       "       [15, 16, 17, 18, 19],\n",
       "       [40, 41, 42, 43, 44]])"
      ]
     },
     "execution_count": 39,
     "metadata": {},
     "output_type": "execute_result"
    }
   ],
   "source": [
    "anotherArr[round(split_border):, :]"
   ]
  },
  {
   "cell_type": "code",
   "execution_count": 40,
   "id": "95de1777-07fc-4ff3-b696-a24e94d67d65",
   "metadata": {},
   "outputs": [],
   "source": [
    "data = np.arange(500).reshape(100,5)"
   ]
  },
  {
   "cell_type": "code",
   "execution_count": 43,
   "id": "2cc2caa4-39e5-4947-8454-837b719c308e",
   "metadata": {},
   "outputs": [],
   "source": [
    "def split_for_ml(data, ratio):\n",
    "    border = round(ratio * data.shape[0])\n",
    "    np.random.shuffle(data)\n",
    "    X = data[:, :-1]\n",
    "    y = data[:, -1]\n",
    "    X_train = X[border:, :]\n",
    "    X_test = X[:border, :]\n",
    "    y_train = y[border:]\n",
    "    y_test = y[:border]\n",
    "    return X_train, X_test, y_train, y_test"
   ]
  },
  {
   "cell_type": "code",
   "execution_count": 44,
   "id": "59da6e7a-473c-49c6-8c3c-2fd6a045abbf",
   "metadata": {},
   "outputs": [
    {
     "name": "stdout",
     "output_type": "stream",
     "text": [
      "(array([[ 15,  16,  17,  18],\n",
      "       [ 35,  36,  37,  38],\n",
      "       [ 25,  26,  27,  28],\n",
      "       [445, 446, 447, 448],\n",
      "       [120, 121, 122, 123],\n",
      "       [ 75,  76,  77,  78],\n",
      "       [440, 441, 442, 443],\n",
      "       [465, 466, 467, 468],\n",
      "       [380, 381, 382, 383],\n",
      "       [210, 211, 212, 213],\n",
      "       [400, 401, 402, 403],\n",
      "       [ 90,  91,  92,  93],\n",
      "       [355, 356, 357, 358],\n",
      "       [180, 181, 182, 183],\n",
      "       [215, 216, 217, 218],\n",
      "       [ 95,  96,  97,  98],\n",
      "       [ 45,  46,  47,  48],\n",
      "       [ 70,  71,  72,  73],\n",
      "       [175, 176, 177, 178],\n",
      "       [ 40,  41,  42,  43],\n",
      "       [450, 451, 452, 453],\n",
      "       [190, 191, 192, 193],\n",
      "       [ 55,  56,  57,  58],\n",
      "       [420, 421, 422, 423],\n",
      "       [150, 151, 152, 153],\n",
      "       [205, 206, 207, 208],\n",
      "       [335, 336, 337, 338],\n",
      "       [370, 371, 372, 373],\n",
      "       [125, 126, 127, 128],\n",
      "       [260, 261, 262, 263],\n",
      "       [195, 196, 197, 198],\n",
      "       [365, 366, 367, 368],\n",
      "       [375, 376, 377, 378],\n",
      "       [ 50,  51,  52,  53],\n",
      "       [265, 266, 267, 268],\n",
      "       [435, 436, 437, 438],\n",
      "       [ 80,  81,  82,  83],\n",
      "       [250, 251, 252, 253],\n",
      "       [275, 276, 277, 278],\n",
      "       [130, 131, 132, 133],\n",
      "       [105, 106, 107, 108],\n",
      "       [320, 321, 322, 323],\n",
      "       [140, 141, 142, 143],\n",
      "       [460, 461, 462, 463],\n",
      "       [ 60,  61,  62,  63],\n",
      "       [225, 226, 227, 228],\n",
      "       [305, 306, 307, 308],\n",
      "       [310, 311, 312, 313],\n",
      "       [295, 296, 297, 298],\n",
      "       [350, 351, 352, 353],\n",
      "       [390, 391, 392, 393],\n",
      "       [485, 486, 487, 488],\n",
      "       [430, 431, 432, 433],\n",
      "       [490, 491, 492, 493],\n",
      "       [155, 156, 157, 158],\n",
      "       [470, 471, 472, 473],\n",
      "       [  0,   1,   2,   3],\n",
      "       [165, 166, 167, 168],\n",
      "       [270, 271, 272, 273],\n",
      "       [ 65,  66,  67,  68],\n",
      "       [455, 456, 457, 458],\n",
      "       [410, 411, 412, 413],\n",
      "       [405, 406, 407, 408],\n",
      "       [200, 201, 202, 203],\n",
      "       [110, 111, 112, 113],\n",
      "       [145, 146, 147, 148],\n",
      "       [ 85,  86,  87,  88],\n",
      "       [230, 231, 232, 233],\n",
      "       [425, 426, 427, 428],\n",
      "       [220, 221, 222, 223],\n",
      "       [ 10,  11,  12,  13],\n",
      "       [315, 316, 317, 318],\n",
      "       [170, 171, 172, 173],\n",
      "       [385, 386, 387, 388],\n",
      "       [360, 361, 362, 363],\n",
      "       [495, 496, 497, 498],\n",
      "       [ 30,  31,  32,  33],\n",
      "       [160, 161, 162, 163],\n",
      "       [415, 416, 417, 418],\n",
      "       [  5,   6,   7,   8]]), array([[285, 286, 287, 288],\n",
      "       [340, 341, 342, 343],\n",
      "       [330, 331, 332, 333],\n",
      "       [345, 346, 347, 348],\n",
      "       [395, 396, 397, 398],\n",
      "       [185, 186, 187, 188],\n",
      "       [135, 136, 137, 138],\n",
      "       [235, 236, 237, 238],\n",
      "       [240, 241, 242, 243],\n",
      "       [245, 246, 247, 248],\n",
      "       [100, 101, 102, 103],\n",
      "       [300, 301, 302, 303],\n",
      "       [ 20,  21,  22,  23],\n",
      "       [115, 116, 117, 118],\n",
      "       [325, 326, 327, 328],\n",
      "       [255, 256, 257, 258],\n",
      "       [475, 476, 477, 478],\n",
      "       [280, 281, 282, 283],\n",
      "       [480, 481, 482, 483],\n",
      "       [290, 291, 292, 293]]), array([ 19,  39,  29, 449, 124,  79, 444, 469, 384, 214, 404,  94, 359,\n",
      "       184, 219,  99,  49,  74, 179,  44, 454, 194,  59, 424, 154, 209,\n",
      "       339, 374, 129, 264, 199, 369, 379,  54, 269, 439,  84, 254, 279,\n",
      "       134, 109, 324, 144, 464,  64, 229, 309, 314, 299, 354, 394, 489,\n",
      "       434, 494, 159, 474,   4, 169, 274,  69, 459, 414, 409, 204, 114,\n",
      "       149,  89, 234, 429, 224,  14, 319, 174, 389, 364, 499,  34, 164,\n",
      "       419,   9]), array([289, 344, 334, 349, 399, 189, 139, 239, 244, 249, 104, 304,  24,\n",
      "       119, 329, 259, 479, 284, 484, 294]))\n"
     ]
    }
   ],
   "source": [
    "print(split_for_ml(data, 0.2))"
   ]
  },
  {
   "cell_type": "code",
   "execution_count": null,
   "id": "9e39e58d-7736-40e4-a6a5-fef32657dcf5",
   "metadata": {},
   "outputs": [],
   "source": []
  }
 ],
 "metadata": {
  "kernelspec": {
   "display_name": "Python 3 (ipykernel)",
   "language": "python",
   "name": "python3"
  },
  "language_info": {
   "codemirror_mode": {
    "name": "ipython",
    "version": 3
   },
   "file_extension": ".py",
   "mimetype": "text/x-python",
   "name": "python",
   "nbconvert_exporter": "python",
   "pygments_lexer": "ipython3",
   "version": "3.11.3"
  }
 },
 "nbformat": 4,
 "nbformat_minor": 5
}
