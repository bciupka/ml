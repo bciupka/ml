{
 "cells": [
  {
   "cell_type": "code",
   "execution_count": 66,
   "id": "a163b8a6-ca13-4154-b933-a73bdf8d67ce",
   "metadata": {},
   "outputs": [],
   "source": [
    "import numpy as np"
   ]
  },
  {
   "cell_type": "code",
   "execution_count": 67,
   "id": "79b2c115-e484-45bb-933b-effa834218d1",
   "metadata": {},
   "outputs": [
    {
     "data": {
      "text/plain": [
       "array([ 0,  1,  2,  3,  4,  5,  6,  7,  8,  9, 10, 11, 12, 13, 14, 15, 16,\n",
       "       17, 18, 19])"
      ]
     },
     "execution_count": 67,
     "metadata": {},
     "output_type": "execute_result"
    }
   ],
   "source": [
    "a = np.arange(0, 20, 1)\n",
    "a"
   ]
  },
  {
   "cell_type": "code",
   "execution_count": 68,
   "id": "a996147c-7162-4835-ba36-6583ad88091d",
   "metadata": {},
   "outputs": [
    {
     "data": {
      "text/plain": [
       "(20,)"
      ]
     },
     "execution_count": 68,
     "metadata": {},
     "output_type": "execute_result"
    }
   ],
   "source": [
    "a.shape"
   ]
  },
  {
   "cell_type": "code",
   "execution_count": 69,
   "id": "f77f71b5-77d1-4fae-a488-952f6f7429c5",
   "metadata": {},
   "outputs": [
    {
     "data": {
      "text/plain": [
       "0"
      ]
     },
     "execution_count": 69,
     "metadata": {},
     "output_type": "execute_result"
    }
   ],
   "source": [
    "a[0]"
   ]
  },
  {
   "cell_type": "code",
   "execution_count": 70,
   "id": "3817be1b-9954-4a84-8dfe-d44fde043b5c",
   "metadata": {},
   "outputs": [
    {
     "data": {
      "text/plain": [
       "4"
      ]
     },
     "execution_count": 70,
     "metadata": {},
     "output_type": "execute_result"
    }
   ],
   "source": [
    "a[4]"
   ]
  },
  {
   "cell_type": "code",
   "execution_count": 71,
   "id": "35f190c9-eaa8-4caf-b5c1-42c3fca862d1",
   "metadata": {},
   "outputs": [
    {
     "data": {
      "text/plain": [
       "array([[ 0,  1,  2,  3,  4,  5,  6,  7,  8,  9],\n",
       "       [10, 11, 12, 13, 14, 15, 16, 17, 18, 19]])"
      ]
     },
     "execution_count": 71,
     "metadata": {},
     "output_type": "execute_result"
    }
   ],
   "source": [
    "a = a.reshape(2, 10)\n",
    "a"
   ]
  },
  {
   "cell_type": "code",
   "execution_count": 72,
   "id": "1ab8c52b-fd06-4219-8e1c-c84967392c71",
   "metadata": {},
   "outputs": [
    {
     "data": {
      "text/plain": [
       "array([0, 1, 2, 3, 4, 5, 6, 7, 8, 9])"
      ]
     },
     "execution_count": 72,
     "metadata": {},
     "output_type": "execute_result"
    }
   ],
   "source": [
    "a[0]"
   ]
  },
  {
   "cell_type": "code",
   "execution_count": 73,
   "id": "8ebd84f0-80bd-4bd7-894b-78292351b20b",
   "metadata": {},
   "outputs": [
    {
     "data": {
      "text/plain": [
       "0"
      ]
     },
     "execution_count": 73,
     "metadata": {},
     "output_type": "execute_result"
    }
   ],
   "source": [
    "a[0,0]"
   ]
  },
  {
   "cell_type": "code",
   "execution_count": 74,
   "id": "1d03f88f-ca6c-4d59-8077-a9e1ede0db3d",
   "metadata": {},
   "outputs": [
    {
     "data": {
      "text/plain": [
       "4"
      ]
     },
     "execution_count": 74,
     "metadata": {},
     "output_type": "execute_result"
    }
   ],
   "source": [
    "a[0,4]"
   ]
  },
  {
   "cell_type": "code",
   "execution_count": 75,
   "id": "bf45d48a-79fc-4f7b-9395-be661d20a51e",
   "metadata": {},
   "outputs": [
    {
     "data": {
      "text/plain": [
       "array([[[ 0,  1],\n",
       "        [ 2,  3],\n",
       "        [ 4,  5],\n",
       "        [ 6,  7],\n",
       "        [ 8,  9]],\n",
       "\n",
       "       [[10, 11],\n",
       "        [12, 13],\n",
       "        [14, 15],\n",
       "        [16, 17],\n",
       "        [18, 19]]])"
      ]
     },
     "execution_count": 75,
     "metadata": {},
     "output_type": "execute_result"
    }
   ],
   "source": [
    "a=a.reshape(2,5,2)\n",
    "a"
   ]
  },
  {
   "cell_type": "code",
   "execution_count": 76,
   "id": "0da8bfc0-f604-45b2-9414-46f0d7e7cd12",
   "metadata": {},
   "outputs": [
    {
     "data": {
      "text/plain": [
       "(2, 5, 2)"
      ]
     },
     "execution_count": 76,
     "metadata": {},
     "output_type": "execute_result"
    }
   ],
   "source": [
    "a.shape"
   ]
  },
  {
   "cell_type": "code",
   "execution_count": 77,
   "id": "36f7a4f7-975f-43dc-bb99-2d2a6e5bfd23",
   "metadata": {},
   "outputs": [
    {
     "data": {
      "text/plain": [
       "array([[0, 1],\n",
       "       [2, 3],\n",
       "       [4, 5],\n",
       "       [6, 7],\n",
       "       [8, 9]])"
      ]
     },
     "execution_count": 77,
     "metadata": {},
     "output_type": "execute_result"
    }
   ],
   "source": [
    "a[0]\n",
    "# pierwsza płaszczyzna"
   ]
  },
  {
   "cell_type": "code",
   "execution_count": 78,
   "id": "7ca90b5d-ffdf-4918-ae30-3e7be32017ac",
   "metadata": {},
   "outputs": [
    {
     "data": {
      "text/plain": [
       "array([6, 7])"
      ]
     },
     "execution_count": 78,
     "metadata": {},
     "output_type": "execute_result"
    }
   ],
   "source": [
    "a[0, 3, :]\n",
    "# czwarty wiersz 1 płaszczyzny"
   ]
  },
  {
   "cell_type": "code",
   "execution_count": 79,
   "id": "8e3be288-d890-4517-a2e8-6bf77a4f46c0",
   "metadata": {},
   "outputs": [
    {
     "data": {
      "text/plain": [
       "7"
      ]
     },
     "execution_count": 79,
     "metadata": {},
     "output_type": "execute_result"
    }
   ],
   "source": [
    "a[0, 3, 1]\n",
    "# 2 elememt (kolumna) czwartego wiersza na pierwszej plaszczzyznie"
   ]
  },
  {
   "cell_type": "code",
   "execution_count": 80,
   "id": "9c975515-c2ba-400e-9ec3-e625bc0a505e",
   "metadata": {},
   "outputs": [],
   "source": [
    "b = np.arange(2, 41, 2).reshape(4,5)"
   ]
  },
  {
   "cell_type": "code",
   "execution_count": 81,
   "id": "dba842ad-1bc0-4e42-abf6-2cd088d6e179",
   "metadata": {},
   "outputs": [],
   "source": [
    "c = np.array([2**x for x in range(10)])"
   ]
  },
  {
   "cell_type": "code",
   "execution_count": 82,
   "id": "dc944456-518a-4559-88cf-a9284064fc8f",
   "metadata": {},
   "outputs": [
    {
     "data": {
      "text/plain": [
       "array([0., 0., 0., 0., 0., 0., 0., 0., 0., 0.])"
      ]
     },
     "execution_count": 82,
     "metadata": {},
     "output_type": "execute_result"
    }
   ],
   "source": [
    "zero_array = np.zeros(10)\n",
    "zero_array"
   ]
  },
  {
   "cell_type": "code",
   "execution_count": 83,
   "id": "b3b4cadd-9c54-4c81-af75-d651099cdb4b",
   "metadata": {},
   "outputs": [
    {
     "data": {
      "text/plain": [
       "array([1., 1., 1., 1., 1., 1., 1., 1., 1., 1.])"
      ]
     },
     "execution_count": 83,
     "metadata": {},
     "output_type": "execute_result"
    }
   ],
   "source": [
    "one_array = np.ones(10)\n",
    "one_array"
   ]
  },
  {
   "cell_type": "code",
   "execution_count": 84,
   "id": "c8de3727-0d9f-4a95-bbff-dcb3906be2a9",
   "metadata": {},
   "outputs": [
    {
     "data": {
      "text/plain": [
       "array([0.00000000e+000, 0.00000000e+000, 4.94065646e-324, 6.95308940e-310,\n",
       "       4.69362364e-322, 1.01113548e-311, 1.01113548e-311, 1.01113548e-311,\n",
       "       1.01113548e-311, 1.01113548e-311, 1.01113548e-311, 1.01113548e-311,\n",
       "       1.01113548e-311, 1.01113549e-311, 1.01113548e-311, 1.01113548e-311,\n",
       "       1.01113548e-311, 1.01113548e-311, 1.01113548e-311, 1.01113549e-311,\n",
       "       1.01113549e-311, 1.01113549e-311, 1.01113548e-311, 1.01113549e-311,\n",
       "       1.01113548e-311, 1.01113548e-311, 1.01113548e-311, 1.01113549e-311,\n",
       "       1.01113142e-311, 1.01113142e-311, 1.01113142e-311, 1.01113142e-311,\n",
       "       1.01113142e-311, 1.01113142e-311, 1.01113142e-311, 1.01113142e-311,\n",
       "       1.01113142e-311, 1.01113142e-311, 1.01113142e-311, 1.01113142e-311,\n",
       "       1.01113142e-311, 1.01113142e-311, 1.01113142e-311, 1.01113142e-311,\n",
       "       1.01113142e-311, 1.01113142e-311, 1.01113142e-311, 1.01113142e-311,\n",
       "       1.01113576e-311, 1.01113576e-311, 1.01113575e-311, 1.01113576e-311,\n",
       "       1.01113576e-311, 1.01113575e-311, 1.01113576e-311, 1.01113576e-311,\n",
       "       1.01113576e-311, 1.01113576e-311, 1.01113576e-311, 1.01113575e-311,\n",
       "       1.01113576e-311, 1.01113576e-311, 1.01113576e-311, 1.01113575e-311,\n",
       "       1.01113576e-311, 1.01113576e-311, 1.01113576e-311, 1.01113575e-311,\n",
       "       1.01113575e-311, 1.01113576e-311, 1.01113575e-311, 1.01113576e-311,\n",
       "       1.01113576e-311, 1.01113576e-311, 0.00000000e+000, 0.00000000e+000,\n",
       "       0.00000000e+000, 0.00000000e+000, 0.00000000e+000, 0.00000000e+000,\n",
       "       0.00000000e+000, 0.00000000e+000, 0.00000000e+000, 0.00000000e+000,\n",
       "       0.00000000e+000, 0.00000000e+000, 0.00000000e+000, 0.00000000e+000,\n",
       "       0.00000000e+000, 0.00000000e+000, 0.00000000e+000, 0.00000000e+000,\n",
       "       0.00000000e+000, 0.00000000e+000, 0.00000000e+000, 0.00000000e+000,\n",
       "       0.00000000e+000, 0.00000000e+000, 0.00000000e+000, 0.00000000e+000])"
      ]
     },
     "execution_count": 84,
     "metadata": {},
     "output_type": "execute_result"
    }
   ],
   "source": [
    "empty_array = np.empty(100)\n",
    "empty_array"
   ]
  },
  {
   "cell_type": "code",
   "execution_count": 87,
   "id": "e36d83e7-a8bf-49e9-a45d-a39140944408",
   "metadata": {},
   "outputs": [
    {
     "data": {
      "text/plain": [
       "array([[13, 13, 13, 13, 13],\n",
       "       [13, 13, 13, 13, 13],\n",
       "       [13, 13, 13, 13, 13],\n",
       "       [13, 13, 13, 13, 13],\n",
       "       [13, 13, 13, 13, 13]])"
      ]
     },
     "execution_count": 87,
     "metadata": {},
     "output_type": "execute_result"
    }
   ],
   "source": [
    "lucky_array = np.full((5,5), 13)\n",
    "lucky_array"
   ]
  },
  {
   "cell_type": "code",
   "execution_count": 88,
   "id": "2e227d0f-c9dd-46d9-a59a-8a294ec5dc07",
   "metadata": {},
   "outputs": [
    {
     "data": {
      "text/plain": [
       "array([[1., 0., 0., 0., 0.],\n",
       "       [0., 1., 0., 0., 0.],\n",
       "       [0., 0., 1., 0., 0.],\n",
       "       [0., 0., 0., 1., 0.],\n",
       "       [0., 0., 0., 0., 1.]])"
      ]
     },
     "execution_count": 88,
     "metadata": {},
     "output_type": "execute_result"
    }
   ],
   "source": [
    "diagonal_array = np.eye(5, 5)\n",
    "diagonal_array"
   ]
  },
  {
   "cell_type": "code",
   "execution_count": 91,
   "id": "6f08c93f-65e5-439b-ac16-0ccc400c38f2",
   "metadata": {},
   "outputs": [
    {
     "data": {
      "text/plain": [
       "array([0.29631914, 0.8452807 , 0.84288959, 0.21217324, 0.18820197,\n",
       "       0.68046371, 0.05191391, 0.08052378, 0.38786143, 0.45759318])"
      ]
     },
     "execution_count": 91,
     "metadata": {},
     "output_type": "execute_result"
    }
   ],
   "source": [
    "random_array = np.random.random(10)\n",
    "random_array"
   ]
  },
  {
   "cell_type": "code",
   "execution_count": 93,
   "id": "12f77222-b11e-429e-8bc0-528970dc38a6",
   "metadata": {},
   "outputs": [
    {
     "data": {
      "text/plain": [
       "array([100., 125., 150., 175., 200.])"
      ]
     },
     "execution_count": 93,
     "metadata": {},
     "output_type": "execute_result"
    }
   ],
   "source": [
    "linspace_array = np.linspace(100, 200, 5)\n",
    "linspace_array"
   ]
  },
  {
   "cell_type": "code",
   "execution_count": null,
   "id": "bf712c96-3d3f-44bc-8ff0-9d59eeefedba",
   "metadata": {},
   "outputs": [],
   "source": []
  }
 ],
 "metadata": {
  "kernelspec": {
   "display_name": "Python 3 (ipykernel)",
   "language": "python",
   "name": "python3"
  },
  "language_info": {
   "codemirror_mode": {
    "name": "ipython",
    "version": 3
   },
   "file_extension": ".py",
   "mimetype": "text/x-python",
   "name": "python",
   "nbconvert_exporter": "python",
   "pygments_lexer": "ipython3",
   "version": "3.11.3"
  }
 },
 "nbformat": 4,
 "nbformat_minor": 5
}
