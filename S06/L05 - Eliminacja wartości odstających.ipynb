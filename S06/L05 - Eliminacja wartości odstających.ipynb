{
 "cells": [
  {
   "cell_type": "code",
   "execution_count": 1,
   "id": "5a24fd26-1d36-468f-a101-303274814435",
   "metadata": {},
   "outputs": [],
   "source": [
    "import numpy as np\n",
    "import matplotlib.pyplot as plt\n",
    "import seaborn as sns\n",
    "import pandas as pd\n",
    "%matplotlib inline\n",
    "from sklearn.linear_model import LinearRegression\n",
    "from scipy import stats"
   ]
  },
  {
   "cell_type": "code",
   "execution_count": 2,
   "id": "e79f2e36-c2f2-4840-8ff3-813aecb45fec",
   "metadata": {},
   "outputs": [],
   "source": [
    "cols = ['CRIM','ZN','INDUS','CHAS','NOX','RM','AGE','DIS',\n",
    "        'RAD','TAX','PTRATIO','B','LSTAT','MEDV']\n",
    " \n",
    "data = pd.read_csv(r\"../zasoby/housing.data\",\n",
    "                   sep=' +', engine='python', header=None, \n",
    "                   names=cols)"
   ]
  },
  {
   "cell_type": "code",
   "execution_count": 3,
   "id": "a03b2db8-fe84-4df9-801f-da56841f0de7",
   "metadata": {},
   "outputs": [
    {
     "name": "stdout",
     "output_type": "stream",
     "text": [
      "<class 'pandas.core.frame.DataFrame'>\n",
      "RangeIndex: 506 entries, 0 to 505\n",
      "Data columns (total 2 columns):\n",
      " #   Column  Non-Null Count  Dtype  \n",
      "---  ------  --------------  -----  \n",
      " 0   LSTAT   506 non-null    float64\n",
      " 1   MEDV    506 non-null    float64\n",
      "dtypes: float64(2)\n",
      "memory usage: 8.0 KB\n"
     ]
    }
   ],
   "source": [
    "data1 = data[['LSTAT', 'MEDV']]\n",
    "data1.info()"
   ]
  },
  {
   "cell_type": "code",
   "execution_count": 5,
   "id": "6f6cee15-6719-4799-ae1b-abe50599b9be",
   "metadata": {},
   "outputs": [
    {
     "data": {
      "text/plain": [
       "<Axes: >"
      ]
     },
     "execution_count": 5,
     "metadata": {},
     "output_type": "execute_result"
    },
    {
     "data": {
      "image/png": "[encoded data removed]",
      "text/plain": [
       "<Figure size 640x480 with 1 Axes>"
      ]
     },
     "metadata": {},
     "output_type": "display_data"
    }
   ],
   "source": [
    "sns.boxplot(data1['LSTAT'], orient='h')"
   ]
  },
  {
   "cell_type": "code",
   "execution_count": 10,
   "id": "205dd77e-0bd6-44d8-9812-06de96a62739",
   "metadata": {},
   "outputs": [],
   "source": [
    "X = data1['LSTAT'].to_numpy().reshape(-1,1)\n",
    "y = data1['MEDV']"
   ]
  },
  {
   "cell_type": "code",
   "execution_count": 11,
   "id": "187312eb-24db-46da-95a9-16f0a4b2b467",
   "metadata": {},
   "outputs": [
    {
     "data": {
      "text/plain": [
       "0.5441462975864797"
      ]
     },
     "execution_count": 11,
     "metadata": {},
     "output_type": "execute_result"
    }
   ],
   "source": [
    "lr1 = LinearRegression()\n",
    "lr1.fit(X, y)\n",
    "lr1.score(X, y)"
   ]
  },
  {
   "cell_type": "code",
   "execution_count": 13,
   "id": "855ec16a-c197-4ecb-9d6a-3c9075d47073",
   "metadata": {},
   "outputs": [
    {
     "name": "stdout",
     "output_type": "stream",
     "text": [
      "<class 'pandas.core.frame.DataFrame'>\n",
      "Index: 501 entries, 0 to 505\n",
      "Data columns (total 2 columns):\n",
      " #   Column  Non-Null Count  Dtype  \n",
      "---  ------  --------------  -----  \n",
      " 0   LSTAT   501 non-null    float64\n",
      " 1   MEDV    501 non-null    float64\n",
      "dtypes: float64(2)\n",
      "memory usage: 11.7 KB\n"
     ]
    }
   ],
   "source": [
    "z = abs(stats.zscore(data1))\n",
    "threshold = 3\n",
    "data_z = data1[(z<threshold).all(axis=1)]\n",
    "data_z.info()"
   ]
  },
  {
   "cell_type": "code",
   "execution_count": 15,
   "id": "d1b097a6-b402-462a-ae0c-f318ff2d11c4",
   "metadata": {},
   "outputs": [
    {
     "data": {
      "text/plain": [
       "<Axes: >"
      ]
     },
     "execution_count": 15,
     "metadata": {},
     "output_type": "execute_result"
    },
    {
     "data": {
      "image/png": "[encoded data removed]",
      "text/plain": [
       "<Figure size 640x480 with 1 Axes>"
      ]
     },
     "metadata": {},
     "output_type": "display_data"
    }
   ],
   "source": [
    "sns.boxplot(data_z['LSTAT'], orient='h')"
   ]
  },
  {
   "cell_type": "code",
   "execution_count": 16,
   "id": "78a9ad45-0fc2-40ee-a65a-a43303fdc575",
   "metadata": {},
   "outputs": [],
   "source": [
    "Xz = data_z['LSTAT'].to_numpy().reshape(-1,1)\n",
    "yz = data_z['MEDV']"
   ]
  },
  {
   "cell_type": "code",
   "execution_count": 17,
   "id": "f7b54992-21f7-4ea2-9c2c-72f6b75bf3fc",
   "metadata": {},
   "outputs": [
    {
     "data": {
      "text/plain": [
       "0.561613442074578"
      ]
     },
     "execution_count": 17,
     "metadata": {},
     "output_type": "execute_result"
    }
   ],
   "source": [
    "lr1 = LinearRegression()\n",
    "lr1.fit(Xz, yz)\n",
    "lr1.score(Xz, yz)"
   ]
  },
  {
   "cell_type": "code",
   "execution_count": 21,
   "id": "37dbced6-83c1-431c-9b71-18df06706951",
   "metadata": {},
   "outputs": [
    {
     "name": "stdout",
     "output_type": "stream",
     "text": [
      "<class 'pandas.core.frame.DataFrame'>\n",
      "Index: 459 entries, 0 to 505\n",
      "Data columns (total 2 columns):\n",
      " #   Column  Non-Null Count  Dtype  \n",
      "---  ------  --------------  -----  \n",
      " 0   LSTAT   459 non-null    float64\n",
      " 1   MEDV    459 non-null    float64\n",
      "dtypes: float64(2)\n",
      "memory usage: 10.8 KB\n"
     ]
    }
   ],
   "source": [
    "Q1 = data1.quantile(0.25) \n",
    "Q3 = data1.quantile(0.75)\n",
    "IQR = Q3 - Q1\n",
    "cond = ((data1 < (Q1 - 1.5 * IQR)) | (data1 > (Q3 + 1.5 * IQR)))\n",
    "data_i = data1[~cond.any(axis=1)]\n",
    "data_i.info()"
   ]
  },
  {
   "cell_type": "code",
   "execution_count": 22,
   "id": "ac02b851-1c99-45a8-a876-070d4864c0d5",
   "metadata": {},
   "outputs": [
    {
     "data": {
      "text/plain": [
       "<Axes: >"
      ]
     },
     "execution_count": 22,
     "metadata": {},
     "output_type": "execute_result"
    },
    {
     "data": {
      "image/png": "[encoded data removed]",
      "text/plain": [
       "<Figure size 640x480 with 1 Axes>"
      ]
     },
     "metadata": {},
     "output_type": "display_data"
    }
   ],
   "source": [
    "sns.boxplot(data_i['LSTAT'], orient='h')"
   ]
  },
  {
   "cell_type": "code",
   "execution_count": 23,
   "id": "d1861d24-3453-48d1-b680-2c30fc697ec5",
   "metadata": {},
   "outputs": [],
   "source": [
    "Xi = data_i['LSTAT'].to_numpy().reshape(-1,1)\n",
    "yi = data_i['MEDV']"
   ]
  },
  {
   "cell_type": "code",
   "execution_count": 24,
   "id": "ffb17483-73bf-4d95-b154-da8ff8740f5b",
   "metadata": {},
   "outputs": [
    {
     "data": {
      "text/plain": [
       "0.6087730602029617"
      ]
     },
     "execution_count": 24,
     "metadata": {},
     "output_type": "execute_result"
    }
   ],
   "source": [
    "lr1 = LinearRegression()\n",
    "lr1.fit(Xi, yi)\n",
    "lr1.score(Xi, yi)"
   ]
  },
  {
   "cell_type": "code",
   "execution_count": null,
   "id": "5c051ff0-d765-4672-a0f0-9aacd918c7a6",
   "metadata": {},
   "outputs": [],
   "source": []
  }
 ],
 "metadata": {
  "kernelspec": {
   "display_name": "Python 3 (ipykernel)",
   "language": "python",
   "name": "python3"
  },
  "language_info": {
   "codemirror_mode": {
    "name": "ipython",
    "version": 3
   },
   "file_extension": ".py",
   "mimetype": "text/x-python",
   "name": "python",
   "nbconvert_exporter": "python",
   "pygments_lexer": "ipython3",
   "version": "3.11.3"
  }
 },
 "nbformat": 4,
 "nbformat_minor": 5
}
