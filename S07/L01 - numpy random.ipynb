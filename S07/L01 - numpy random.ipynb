{
 "cells": [
  {
   "cell_type": "code",
   "execution_count": 3,
   "id": "091918ba-f05d-4369-a5cf-080e41a213dc",
   "metadata": {},
   "outputs": [],
   "source": [
    "import numpy as np"
   ]
  },
  {
   "cell_type": "code",
   "execution_count": 5,
   "id": "e1cacaee-c11c-4225-b68e-bcee21c0741a",
   "metadata": {},
   "outputs": [
    {
     "data": {
      "text/plain": [
       "0.5016989619106657"
      ]
     },
     "execution_count": 5,
     "metadata": {},
     "output_type": "execute_result"
    }
   ],
   "source": [
    "rand_a = np.random.rand()\n",
    "rand_a"
   ]
  },
  {
   "cell_type": "code",
   "execution_count": 6,
   "id": "bc3b6fa5-b21e-4697-9443-46695e220f1d",
   "metadata": {},
   "outputs": [
    {
     "data": {
      "text/plain": [
       "array([[0.92114429, 0.35873525, 0.47277243, 0.73704963, 0.45020687],\n",
       "       [0.06123299, 0.07296105, 0.97950994, 0.31001073, 0.41663193]])"
      ]
     },
     "execution_count": 6,
     "metadata": {},
     "output_type": "execute_result"
    }
   ],
   "source": [
    "rand_a = np.random.rand(2,5)\n",
    "rand_a"
   ]
  },
  {
   "cell_type": "code",
   "execution_count": 7,
   "id": "81f9febc-4e03-4f88-a742-ea45e0f1c53f",
   "metadata": {},
   "outputs": [
    {
     "data": {
      "text/plain": [
       "array([[0.24427404, 0.17405929, 0.34989569, 0.29660464, 0.04608677]])"
      ]
     },
     "execution_count": 7,
     "metadata": {},
     "output_type": "execute_result"
    }
   ],
   "source": [
    "rand_b = np.random.rand(1,5)\n",
    "rand_b"
   ]
  },
  {
   "cell_type": "code",
   "execution_count": 8,
   "id": "9a32a195-37d8-439a-8c82-c9c1518e1125",
   "metadata": {},
   "outputs": [
    {
     "data": {
      "text/plain": [
       "array([[24.42740367, 17.40592949, 34.98956931, 29.66046436,  4.60867691]])"
      ]
     },
     "execution_count": 8,
     "metadata": {},
     "output_type": "execute_result"
    }
   ],
   "source": [
    "rand_b = rand_b * 100\n",
    "rand_b"
   ]
  },
  {
   "cell_type": "code",
   "execution_count": 10,
   "id": "55fee17a-a2d8-4526-a190-bb9554f6dc8e",
   "metadata": {},
   "outputs": [
    {
     "data": {
      "text/plain": [
       "array([[ 0.92114429,  0.35873525,  0.47277243,  0.73704963,  0.45020687],\n",
       "       [ 0.06123299,  0.07296105,  0.97950994,  0.31001073,  0.41663193],\n",
       "       [24.42740367, 17.40592949, 34.98956931, 29.66046436,  4.60867691]])"
      ]
     },
     "execution_count": 10,
     "metadata": {},
     "output_type": "execute_result"
    }
   ],
   "source": [
    "rand_c = np.vstack([rand_a, rand_b])\n",
    "rand_c"
   ]
  },
  {
   "cell_type": "code",
   "execution_count": 11,
   "id": "31abed10-8474-4aab-97f4-ea04fb720beb",
   "metadata": {},
   "outputs": [
    {
     "data": {
      "text/plain": [
       "array([[0.77658186],\n",
       "       [0.6255875 ]])"
      ]
     },
     "execution_count": 11,
     "metadata": {},
     "output_type": "execute_result"
    }
   ],
   "source": [
    "rand_b = np.random.rand(2,1)\n",
    "rand_b"
   ]
  },
  {
   "cell_type": "code",
   "execution_count": 12,
   "id": "0a286409-3dfe-4dec-99f5-9c83fafc9323",
   "metadata": {},
   "outputs": [
    {
     "data": {
      "text/plain": [
       "array([[0.92114429, 0.35873525, 0.47277243, 0.73704963, 0.45020687,\n",
       "        0.77658186],\n",
       "       [0.06123299, 0.07296105, 0.97950994, 0.31001073, 0.41663193,\n",
       "        0.6255875 ]])"
      ]
     },
     "execution_count": 12,
     "metadata": {},
     "output_type": "execute_result"
    }
   ],
   "source": [
    "rand_c = np.hstack([rand_a, rand_b])\n",
    "rand_c"
   ]
  },
  {
   "cell_type": "code",
   "execution_count": 13,
   "id": "2b421212-4e40-4d65-8763-f3f41f57e718",
   "metadata": {},
   "outputs": [
    {
     "data": {
      "text/plain": [
       "array([0.35873525, 0.07296105])"
      ]
     },
     "execution_count": 13,
     "metadata": {},
     "output_type": "execute_result"
    }
   ],
   "source": [
    "X = rand_c[:, 1]\n",
    "X"
   ]
  },
  {
   "cell_type": "code",
   "execution_count": 14,
   "id": "73b83049-64f5-4bcd-9b4d-504d634a7005",
   "metadata": {},
   "outputs": [],
   "source": [
    "a = 3\n",
    "b = 8\n",
    "y = a * X + b"
   ]
  },
  {
   "cell_type": "code",
   "execution_count": 15,
   "id": "a5b2797b-bf22-4fda-a7d5-15e9e0cb7bfd",
   "metadata": {},
   "outputs": [
    {
     "data": {
      "text/plain": [
       "array([9.07620574, 8.21888316])"
      ]
     },
     "execution_count": 15,
     "metadata": {},
     "output_type": "execute_result"
    }
   ],
   "source": [
    "y"
   ]
  },
  {
   "cell_type": "code",
   "execution_count": 16,
   "id": "822844ef-6352-457a-a666-1ff4e130e07c",
   "metadata": {},
   "outputs": [
    {
     "data": {
      "text/plain": [
       "array([2, 6, 1, 5, 8, 7, 5, 8, 3, 6])"
      ]
     },
     "execution_count": 16,
     "metadata": {},
     "output_type": "execute_result"
    }
   ],
   "source": [
    "X = np.random.randint(size=10, low=0, high=10)\n",
    "X"
   ]
  },
  {
   "cell_type": "code",
   "execution_count": 57,
   "id": "61fbc6b3-5c50-44ba-851d-f1d05cfc8adc",
   "metadata": {},
   "outputs": [
    {
     "data": {
      "text/plain": [
       "array([20, 60, 10, 50, 80, 70, 50, 80, 30, 60])"
      ]
     },
     "execution_count": 57,
     "metadata": {},
     "output_type": "execute_result"
    }
   ],
   "source": [
    "X = X*10\n",
    "X"
   ]
  },
  {
   "cell_type": "code",
   "execution_count": 116,
   "id": "7c6f1bfd-58cf-4bb7-94af-78dc32b0fa65",
   "metadata": {},
   "outputs": [
    {
     "data": {
      "text/plain": [
       "array([80, 80, 80])"
      ]
     },
     "execution_count": 116,
     "metadata": {},
     "output_type": "execute_result"
    }
   ],
   "source": [
    "np.random.choice(X, size=3)"
   ]
  },
  {
   "cell_type": "code",
   "execution_count": 140,
   "id": "78cd2e46-50c6-4df0-81c8-0bab29eb1b7a",
   "metadata": {},
   "outputs": [
    {
     "data": {
      "text/plain": [
       "array([6, 3, 9])"
      ]
     },
     "execution_count": 140,
     "metadata": {},
     "output_type": "execute_result"
    }
   ],
   "source": [
    "idx = np.random.choice(X.shape[0], size=3, replace=False)\n",
    "idx"
   ]
  },
  {
   "cell_type": "code",
   "execution_count": 141,
   "id": "68d1b398-d744-4221-a87f-b3c44275f52d",
   "metadata": {},
   "outputs": [
    {
     "data": {
      "text/plain": [
       "array([50, 50, 60])"
      ]
     },
     "execution_count": 141,
     "metadata": {},
     "output_type": "execute_result"
    }
   ],
   "source": [
    "X[idx]"
   ]
  },
  {
   "cell_type": "code",
   "execution_count": null,
   "id": "b02b58a1-85f2-4694-9c1d-c9717c1a7cb7",
   "metadata": {},
   "outputs": [],
   "source": []
  }
 ],
 "metadata": {
  "kernelspec": {
   "display_name": "Python 3 (ipykernel)",
   "language": "python",
   "name": "python3"
  },
  "language_info": {
   "codemirror_mode": {
    "name": "ipython",
    "version": 3
   },
   "file_extension": ".py",
   "mimetype": "text/x-python",
   "name": "python",
   "nbconvert_exporter": "python",
   "pygments_lexer": "ipython3",
   "version": "3.11.3"
  }
 },
 "nbformat": 4,
 "nbformat_minor": 5
}
