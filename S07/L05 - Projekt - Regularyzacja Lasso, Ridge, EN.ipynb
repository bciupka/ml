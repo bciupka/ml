{
 "cells": [
  {
   "cell_type": "code",
   "execution_count": 1,
   "id": "62609f19-006f-42d0-aae9-0eee063af05a",
   "metadata": {},
   "outputs": [],
   "source": [
    "import pandas as pd\n",
    "import numpy as np\n",
    "import matplotlib.pyplot as plt\n",
    "%matplotlib inline\n",
    " \n",
    "from sklearn.preprocessing import StandardScaler\n",
    "from sklearn.model_selection import train_test_split\n",
    "from sklearn.metrics import r2_score\n",
    " \n",
    "from sklearn.linear_model import Lasso\n",
    "from sklearn.linear_model import Ridge\n",
    "from sklearn.linear_model import ElasticNet"
   ]
  },
  {
   "cell_type": "code",
   "execution_count": 2,
   "id": "8cc044fb-4c02-452d-bbb0-57839e70659e",
   "metadata": {},
   "outputs": [],
   "source": [
    "cols = ['CRIM','ZN','INDUS','CHAS','NOX','RM','AGE','DIS',\n",
    "        'RAD','TAX','PTRATIO','B','LSTAT','MEDV']\n",
    " \n",
    "data = pd.read_csv(r\"../zasoby/housing.data\",\n",
    "                   sep=' +', engine='python', header=None, \n",
    "                   names=cols)\n",
    " \n",
    "X = data.drop('MEDV', axis=1)\n",
    "y = data['MEDV'].values"
   ]
  },
  {
   "cell_type": "code",
   "execution_count": 3,
   "id": "5461c523-858e-4ed0-822a-3071f4885a61",
   "metadata": {},
   "outputs": [],
   "source": [
    "scaler = StandardScaler()\n",
    "X_s = scaler.fit_transform(X)"
   ]
  },
  {
   "cell_type": "code",
   "execution_count": 4,
   "id": "41eddd3f-2f4c-4aff-9490-3d399cb3eddb",
   "metadata": {},
   "outputs": [],
   "source": [
    "X_train, X_test, y_train, y_test = train_test_split(X_s, y, test_size=0.2)"
   ]
  },
  {
   "cell_type": "code",
   "execution_count": 12,
   "id": "18242463-34ed-4ff0-9a83-b9d80e0ddb30",
   "metadata": {},
   "outputs": [],
   "source": [
    "lasso_df = pd.DataFrame({'param_value': np.arange(0.1, 10.1, 0.1), 'r2_result': np.NaN, 'number_of_features': np.NaN})"
   ]
  },
  {
   "cell_type": "code",
   "execution_count": 13,
   "id": "ca006249-6e26-4dcc-86fa-8cd572bb9dfb",
   "metadata": {},
   "outputs": [
    {
     "data": {
      "text/html": [
       "<div>\n",
       "<style scoped>\n",
       "    .dataframe tbody tr th:only-of-type {\n",
       "        vertical-align: middle;\n",
       "    }\n",
       "\n",
       "    .dataframe tbody tr th {\n",
       "        vertical-align: top;\n",
       "    }\n",
       "\n",
       "    .dataframe thead th {\n",
       "        text-align: right;\n",
       "    }\n",
       "</style>\n",
       "<table border=\"1\" class=\"dataframe\">\n",
       "  <thead>\n",
       "    <tr style=\"text-align: right;\">\n",
       "      <th></th>\n",
       "      <th>param_value</th>\n",
       "      <th>r2_result</th>\n",
       "      <th>number_of_features</th>\n",
       "    </tr>\n",
       "  </thead>\n",
       "  <tbody>\n",
       "    <tr>\n",
       "      <th>0</th>\n",
       "      <td>0.1</td>\n",
       "      <td>NaN</td>\n",
       "      <td>NaN</td>\n",
       "    </tr>\n",
       "    <tr>\n",
       "      <th>1</th>\n",
       "      <td>0.2</td>\n",
       "      <td>NaN</td>\n",
       "      <td>NaN</td>\n",
       "    </tr>\n",
       "    <tr>\n",
       "      <th>2</th>\n",
       "      <td>0.3</td>\n",
       "      <td>NaN</td>\n",
       "      <td>NaN</td>\n",
       "    </tr>\n",
       "    <tr>\n",
       "      <th>3</th>\n",
       "      <td>0.4</td>\n",
       "      <td>NaN</td>\n",
       "      <td>NaN</td>\n",
       "    </tr>\n",
       "    <tr>\n",
       "      <th>4</th>\n",
       "      <td>0.5</td>\n",
       "      <td>NaN</td>\n",
       "      <td>NaN</td>\n",
       "    </tr>\n",
       "  </tbody>\n",
       "</table>\n",
       "</div>"
      ],
      "text/plain": [
       "   param_value  r2_result  number_of_features\n",
       "0          0.1        NaN                 NaN\n",
       "1          0.2        NaN                 NaN\n",
       "2          0.3        NaN                 NaN\n",
       "3          0.4        NaN                 NaN\n",
       "4          0.5        NaN                 NaN"
      ]
     },
     "execution_count": 13,
     "metadata": {},
     "output_type": "execute_result"
    }
   ],
   "source": [
    "lasso_df.head()"
   ]
  },
  {
   "cell_type": "code",
   "execution_count": 14,
   "id": "834a4822-cf91-4cc9-a70e-9ec0f484aee3",
   "metadata": {},
   "outputs": [],
   "source": [
    "for i in lasso_df.values:\n",
    "    alpha = i[0]\n",
    "    lasso = Lasso(alpha=alpha)\n",
    "    lasso.fit(X_train, y_train)\n",
    "    i[1] = r2_score(y_test, lasso.predict(X_test))\n",
    "    i[2] = len(lasso.coef_[lasso.coef_ > 0])"
   ]
  },
  {
   "cell_type": "code",
   "execution_count": 16,
   "id": "7118c458-8106-4f7e-b711-2c0a3f08f89d",
   "metadata": {},
   "outputs": [
    {
     "data": {
      "text/html": [
       "<div>\n",
       "<style scoped>\n",
       "    .dataframe tbody tr th:only-of-type {\n",
       "        vertical-align: middle;\n",
       "    }\n",
       "\n",
       "    .dataframe tbody tr th {\n",
       "        vertical-align: top;\n",
       "    }\n",
       "\n",
       "    .dataframe thead th {\n",
       "        text-align: right;\n",
       "    }\n",
       "</style>\n",
       "<table border=\"1\" class=\"dataframe\">\n",
       "  <thead>\n",
       "    <tr style=\"text-align: right;\">\n",
       "      <th></th>\n",
       "      <th>param_value</th>\n",
       "      <th>r2_result</th>\n",
       "      <th>number_of_features</th>\n",
       "    </tr>\n",
       "  </thead>\n",
       "  <tbody>\n",
       "    <tr>\n",
       "      <th>0</th>\n",
       "      <td>0.1</td>\n",
       "      <td>0.760254</td>\n",
       "      <td>5.0</td>\n",
       "    </tr>\n",
       "    <tr>\n",
       "      <th>1</th>\n",
       "      <td>0.2</td>\n",
       "      <td>0.751036</td>\n",
       "      <td>5.0</td>\n",
       "    </tr>\n",
       "    <tr>\n",
       "      <th>2</th>\n",
       "      <td>0.3</td>\n",
       "      <td>0.743425</td>\n",
       "      <td>4.0</td>\n",
       "    </tr>\n",
       "    <tr>\n",
       "      <th>3</th>\n",
       "      <td>0.4</td>\n",
       "      <td>0.733597</td>\n",
       "      <td>4.0</td>\n",
       "    </tr>\n",
       "    <tr>\n",
       "      <th>4</th>\n",
       "      <td>0.5</td>\n",
       "      <td>0.721477</td>\n",
       "      <td>3.0</td>\n",
       "    </tr>\n",
       "    <tr>\n",
       "      <th>...</th>\n",
       "      <td>...</td>\n",
       "      <td>...</td>\n",
       "      <td>...</td>\n",
       "    </tr>\n",
       "    <tr>\n",
       "      <th>73</th>\n",
       "      <td>7.4</td>\n",
       "      <td>-0.000486</td>\n",
       "      <td>0.0</td>\n",
       "    </tr>\n",
       "    <tr>\n",
       "      <th>72</th>\n",
       "      <td>7.3</td>\n",
       "      <td>-0.000486</td>\n",
       "      <td>0.0</td>\n",
       "    </tr>\n",
       "    <tr>\n",
       "      <th>71</th>\n",
       "      <td>7.2</td>\n",
       "      <td>-0.000486</td>\n",
       "      <td>0.0</td>\n",
       "    </tr>\n",
       "    <tr>\n",
       "      <th>70</th>\n",
       "      <td>7.1</td>\n",
       "      <td>-0.000486</td>\n",
       "      <td>0.0</td>\n",
       "    </tr>\n",
       "    <tr>\n",
       "      <th>99</th>\n",
       "      <td>10.0</td>\n",
       "      <td>-0.000486</td>\n",
       "      <td>0.0</td>\n",
       "    </tr>\n",
       "  </tbody>\n",
       "</table>\n",
       "<p>100 rows × 3 columns</p>\n",
       "</div>"
      ],
      "text/plain": [
       "    param_value  r2_result  number_of_features\n",
       "0           0.1   0.760254                 5.0\n",
       "1           0.2   0.751036                 5.0\n",
       "2           0.3   0.743425                 4.0\n",
       "3           0.4   0.733597                 4.0\n",
       "4           0.5   0.721477                 3.0\n",
       "..          ...        ...                 ...\n",
       "73          7.4  -0.000486                 0.0\n",
       "72          7.3  -0.000486                 0.0\n",
       "71          7.2  -0.000486                 0.0\n",
       "70          7.1  -0.000486                 0.0\n",
       "99         10.0  -0.000486                 0.0\n",
       "\n",
       "[100 rows x 3 columns]"
      ]
     },
     "execution_count": 16,
     "metadata": {},
     "output_type": "execute_result"
    }
   ],
   "source": [
    "lasso_df.sort_values(by='r2_result', ascending=False)"
   ]
  },
  {
   "cell_type": "code",
   "execution_count": 17,
   "id": "83695c08-708d-44b8-8427-f48061a3ed5b",
   "metadata": {},
   "outputs": [],
   "source": [
    "ridge_df = pd.DataFrame({'param_value': np.arange(0.1, 10.1, 0.1), 'r2_result': np.NaN, 'number_of_features': np.NaN})"
   ]
  },
  {
   "cell_type": "code",
   "execution_count": 18,
   "id": "e9841060-0085-4c3f-bfb6-d80ca1eff3a7",
   "metadata": {},
   "outputs": [],
   "source": [
    "for i in ridge_df.values:\n",
    "    alpha = i[0]\n",
    "    ridge = Ridge(alpha=alpha)\n",
    "    ridge.fit(X_train, y_train)\n",
    "    i[1] = r2_score(y_test, ridge.predict(X_test))\n",
    "    i[2] = len(ridge.coef_[ridge.coef_ > 0])"
   ]
  },
  {
   "cell_type": "code",
   "execution_count": 19,
   "id": "8fb3dcc9-a6ce-4948-acda-aca61e500afc",
   "metadata": {},
   "outputs": [
    {
     "data": {
      "text/html": [
       "<div>\n",
       "<style scoped>\n",
       "    .dataframe tbody tr th:only-of-type {\n",
       "        vertical-align: middle;\n",
       "    }\n",
       "\n",
       "    .dataframe tbody tr th {\n",
       "        vertical-align: top;\n",
       "    }\n",
       "\n",
       "    .dataframe thead th {\n",
       "        text-align: right;\n",
       "    }\n",
       "</style>\n",
       "<table border=\"1\" class=\"dataframe\">\n",
       "  <thead>\n",
       "    <tr style=\"text-align: right;\">\n",
       "      <th></th>\n",
       "      <th>param_value</th>\n",
       "      <th>r2_result</th>\n",
       "      <th>number_of_features</th>\n",
       "    </tr>\n",
       "  </thead>\n",
       "  <tbody>\n",
       "    <tr>\n",
       "      <th>0</th>\n",
       "      <td>0.1</td>\n",
       "      <td>0.764174</td>\n",
       "      <td>6.0</td>\n",
       "    </tr>\n",
       "    <tr>\n",
       "      <th>1</th>\n",
       "      <td>0.2</td>\n",
       "      <td>0.764155</td>\n",
       "      <td>6.0</td>\n",
       "    </tr>\n",
       "    <tr>\n",
       "      <th>2</th>\n",
       "      <td>0.3</td>\n",
       "      <td>0.764134</td>\n",
       "      <td>6.0</td>\n",
       "    </tr>\n",
       "    <tr>\n",
       "      <th>3</th>\n",
       "      <td>0.4</td>\n",
       "      <td>0.764114</td>\n",
       "      <td>6.0</td>\n",
       "    </tr>\n",
       "    <tr>\n",
       "      <th>4</th>\n",
       "      <td>0.5</td>\n",
       "      <td>0.764093</td>\n",
       "      <td>6.0</td>\n",
       "    </tr>\n",
       "    <tr>\n",
       "      <th>...</th>\n",
       "      <td>...</td>\n",
       "      <td>...</td>\n",
       "      <td>...</td>\n",
       "    </tr>\n",
       "    <tr>\n",
       "      <th>95</th>\n",
       "      <td>9.6</td>\n",
       "      <td>0.761168</td>\n",
       "      <td>5.0</td>\n",
       "    </tr>\n",
       "    <tr>\n",
       "      <th>96</th>\n",
       "      <td>9.7</td>\n",
       "      <td>0.761132</td>\n",
       "      <td>5.0</td>\n",
       "    </tr>\n",
       "    <tr>\n",
       "      <th>97</th>\n",
       "      <td>9.8</td>\n",
       "      <td>0.761095</td>\n",
       "      <td>5.0</td>\n",
       "    </tr>\n",
       "    <tr>\n",
       "      <th>98</th>\n",
       "      <td>9.9</td>\n",
       "      <td>0.761058</td>\n",
       "      <td>5.0</td>\n",
       "    </tr>\n",
       "    <tr>\n",
       "      <th>99</th>\n",
       "      <td>10.0</td>\n",
       "      <td>0.761021</td>\n",
       "      <td>5.0</td>\n",
       "    </tr>\n",
       "  </tbody>\n",
       "</table>\n",
       "<p>100 rows × 3 columns</p>\n",
       "</div>"
      ],
      "text/plain": [
       "    param_value  r2_result  number_of_features\n",
       "0           0.1   0.764174                 6.0\n",
       "1           0.2   0.764155                 6.0\n",
       "2           0.3   0.764134                 6.0\n",
       "3           0.4   0.764114                 6.0\n",
       "4           0.5   0.764093                 6.0\n",
       "..          ...        ...                 ...\n",
       "95          9.6   0.761168                 5.0\n",
       "96          9.7   0.761132                 5.0\n",
       "97          9.8   0.761095                 5.0\n",
       "98          9.9   0.761058                 5.0\n",
       "99         10.0   0.761021                 5.0\n",
       "\n",
       "[100 rows x 3 columns]"
      ]
     },
     "execution_count": 19,
     "metadata": {},
     "output_type": "execute_result"
    }
   ],
   "source": [
    "ridge_df.sort_values(by='r2_result', ascending=False)"
   ]
  },
  {
   "cell_type": "code",
   "execution_count": 20,
   "id": "130eacc9-a9e4-40df-bef6-21c5f444024c",
   "metadata": {},
   "outputs": [],
   "source": [
    "en_df = pd.DataFrame({'param_value': np.arange(0.1, 10.1, 0.1), 'r2_result': np.NaN, 'number_of_features': np.NaN})"
   ]
  },
  {
   "cell_type": "code",
   "execution_count": 21,
   "id": "c50b2552-ddff-4eff-8f41-502a6c0bc0ea",
   "metadata": {},
   "outputs": [],
   "source": [
    "for i in en_df.values:\n",
    "    alpha = i[0]\n",
    "    en = ElasticNet(alpha=alpha)\n",
    "    en.fit(X_train, y_train)\n",
    "    i[1] = r2_score(y_test, en.predict(X_test))\n",
    "    i[2] = len(en.coef_[en.coef_ > 0])"
   ]
  },
  {
   "cell_type": "code",
   "execution_count": 22,
   "id": "ead6deb9-74d7-42b8-88c2-544e6aacf42e",
   "metadata": {},
   "outputs": [
    {
     "data": {
      "text/html": [
       "<div>\n",
       "<style scoped>\n",
       "    .dataframe tbody tr th:only-of-type {\n",
       "        vertical-align: middle;\n",
       "    }\n",
       "\n",
       "    .dataframe tbody tr th {\n",
       "        vertical-align: top;\n",
       "    }\n",
       "\n",
       "    .dataframe thead th {\n",
       "        text-align: right;\n",
       "    }\n",
       "</style>\n",
       "<table border=\"1\" class=\"dataframe\">\n",
       "  <thead>\n",
       "    <tr style=\"text-align: right;\">\n",
       "      <th></th>\n",
       "      <th>param_value</th>\n",
       "      <th>r2_result</th>\n",
       "      <th>number_of_features</th>\n",
       "    </tr>\n",
       "  </thead>\n",
       "  <tbody>\n",
       "    <tr>\n",
       "      <th>0</th>\n",
       "      <td>0.1</td>\n",
       "      <td>0.755008</td>\n",
       "      <td>5.0</td>\n",
       "    </tr>\n",
       "    <tr>\n",
       "      <th>1</th>\n",
       "      <td>0.2</td>\n",
       "      <td>0.744244</td>\n",
       "      <td>5.0</td>\n",
       "    </tr>\n",
       "    <tr>\n",
       "      <th>2</th>\n",
       "      <td>0.3</td>\n",
       "      <td>0.733381</td>\n",
       "      <td>5.0</td>\n",
       "    </tr>\n",
       "    <tr>\n",
       "      <th>3</th>\n",
       "      <td>0.4</td>\n",
       "      <td>0.722847</td>\n",
       "      <td>4.0</td>\n",
       "    </tr>\n",
       "    <tr>\n",
       "      <th>4</th>\n",
       "      <td>0.5</td>\n",
       "      <td>0.712679</td>\n",
       "      <td>4.0</td>\n",
       "    </tr>\n",
       "    <tr>\n",
       "      <th>...</th>\n",
       "      <td>...</td>\n",
       "      <td>...</td>\n",
       "      <td>...</td>\n",
       "    </tr>\n",
       "    <tr>\n",
       "      <th>95</th>\n",
       "      <td>9.6</td>\n",
       "      <td>0.081529</td>\n",
       "      <td>1.0</td>\n",
       "    </tr>\n",
       "    <tr>\n",
       "      <th>96</th>\n",
       "      <td>9.7</td>\n",
       "      <td>0.078688</td>\n",
       "      <td>1.0</td>\n",
       "    </tr>\n",
       "    <tr>\n",
       "      <th>97</th>\n",
       "      <td>9.8</td>\n",
       "      <td>0.075883</td>\n",
       "      <td>1.0</td>\n",
       "    </tr>\n",
       "    <tr>\n",
       "      <th>98</th>\n",
       "      <td>9.9</td>\n",
       "      <td>0.073115</td>\n",
       "      <td>1.0</td>\n",
       "    </tr>\n",
       "    <tr>\n",
       "      <th>99</th>\n",
       "      <td>10.0</td>\n",
       "      <td>0.070381</td>\n",
       "      <td>1.0</td>\n",
       "    </tr>\n",
       "  </tbody>\n",
       "</table>\n",
       "<p>100 rows × 3 columns</p>\n",
       "</div>"
      ],
      "text/plain": [
       "    param_value  r2_result  number_of_features\n",
       "0           0.1   0.755008                 5.0\n",
       "1           0.2   0.744244                 5.0\n",
       "2           0.3   0.733381                 5.0\n",
       "3           0.4   0.722847                 4.0\n",
       "4           0.5   0.712679                 4.0\n",
       "..          ...        ...                 ...\n",
       "95          9.6   0.081529                 1.0\n",
       "96          9.7   0.078688                 1.0\n",
       "97          9.8   0.075883                 1.0\n",
       "98          9.9   0.073115                 1.0\n",
       "99         10.0   0.070381                 1.0\n",
       "\n",
       "[100 rows x 3 columns]"
      ]
     },
     "execution_count": 22,
     "metadata": {},
     "output_type": "execute_result"
    }
   ],
   "source": [
    "en_df.sort_values(by='r2_result', ascending=False)"
   ]
  },
  {
   "cell_type": "code",
   "execution_count": 36,
   "id": "48378399-4abc-40dc-b420-81d99e24687c",
   "metadata": {},
   "outputs": [
    {
     "data": {
      "image/png": "[encoded data removed]",
      "text/plain": [
       "<Figure size 640x480 with 1 Axes>"
      ]
     },
     "metadata": {},
     "output_type": "display_data"
    }
   ],
   "source": [
    "plt.scatter(lasso_df.param_value, lasso_df.r2_result*10, edgecolor='gold', facecolor='none', s=8)\n",
    "plt.scatter(lasso_df.param_value, lasso_df.number_of_features, facecolor='none', edgecolor='green', s=5)\n",
    "plt.show()"
   ]
  },
  {
   "cell_type": "code",
   "execution_count": 37,
   "id": "169bed33-b30b-4bf0-bc46-d5b6b7ddb4d1",
   "metadata": {},
   "outputs": [
    {
     "data": {
      "image/png": "[encoded data removed]",
      "text/plain": [
       "<Figure size 640x480 with 1 Axes>"
      ]
     },
     "metadata": {},
     "output_type": "display_data"
    }
   ],
   "source": [
    "plt.scatter(ridge_df.param_value, ridge_df.r2_result*10, edgecolor='gold', facecolor='none', s=8)\n",
    "plt.scatter(ridge_df.param_value, ridge_df.number_of_features, facecolor='none', edgecolor='green', s=5)\n",
    "plt.show()"
   ]
  },
  {
   "cell_type": "code",
   "execution_count": 38,
   "id": "7f73e568-76e5-442f-bbcb-0f5226fed82f",
   "metadata": {},
   "outputs": [
    {
     "data": {
      "image/png": "[encoded data removed]",
      "text/plain": [
       "<Figure size 640x480 with 1 Axes>"
      ]
     },
     "metadata": {},
     "output_type": "display_data"
    }
   ],
   "source": [
    "plt.scatter(en_df.param_value, en_df.r2_result*10, edgecolor='gold', facecolor='none', s=8)\n",
    "plt.scatter(en_df.param_value, en_df.number_of_features, facecolor='none', edgecolor='green', s=5)\n",
    "plt.show()"
   ]
  },
  {
   "cell_type": "code",
   "execution_count": 39,
   "id": "62f35e33-f73f-4e35-8589-64dd33ca9fed",
   "metadata": {},
   "outputs": [],
   "source": [
    "X_train, X_test, y_train, y_test = train_test_split(X, y, test_size=0.2)"
   ]
  },
  {
   "cell_type": "code",
   "execution_count": 40,
   "id": "02c49180-e0ca-47f5-ab63-55b9257e51a5",
   "metadata": {},
   "outputs": [],
   "source": [
    "lasso_df = pd.DataFrame({'param_value': np.arange(0.1, 10.1, 0.1), 'r2_result': np.NaN, 'number_of_features': np.NaN})"
   ]
  },
  {
   "cell_type": "code",
   "execution_count": 41,
   "id": "97a0ebc5-8031-4667-87c9-e083c0c7c886",
   "metadata": {},
   "outputs": [],
   "source": [
    "for i in lasso_df.values:\n",
    "    alpha = i[0]\n",
    "    lasso = Lasso(alpha=alpha)\n",
    "    lasso.fit(X_train, y_train)\n",
    "    i[1] = r2_score(y_test, lasso.predict(X_test))\n",
    "    i[2] = len(lasso.coef_[lasso.coef_ > 0])"
   ]
  },
  {
   "cell_type": "code",
   "execution_count": 42,
   "id": "f514fbd5-7a22-4021-a7d1-ef61b409c49f",
   "metadata": {},
   "outputs": [
    {
     "data": {
      "text/html": [
       "<div>\n",
       "<style scoped>\n",
       "    .dataframe tbody tr th:only-of-type {\n",
       "        vertical-align: middle;\n",
       "    }\n",
       "\n",
       "    .dataframe tbody tr th {\n",
       "        vertical-align: top;\n",
       "    }\n",
       "\n",
       "    .dataframe thead th {\n",
       "        text-align: right;\n",
       "    }\n",
       "</style>\n",
       "<table border=\"1\" class=\"dataframe\">\n",
       "  <thead>\n",
       "    <tr style=\"text-align: right;\">\n",
       "      <th></th>\n",
       "      <th>param_value</th>\n",
       "      <th>r2_result</th>\n",
       "      <th>number_of_features</th>\n",
       "    </tr>\n",
       "  </thead>\n",
       "  <tbody>\n",
       "    <tr>\n",
       "      <th>0</th>\n",
       "      <td>0.1</td>\n",
       "      <td>0.691516</td>\n",
       "      <td>5.0</td>\n",
       "    </tr>\n",
       "    <tr>\n",
       "      <th>1</th>\n",
       "      <td>0.2</td>\n",
       "      <td>0.686070</td>\n",
       "      <td>4.0</td>\n",
       "    </tr>\n",
       "    <tr>\n",
       "      <th>2</th>\n",
       "      <td>0.3</td>\n",
       "      <td>0.682966</td>\n",
       "      <td>4.0</td>\n",
       "    </tr>\n",
       "    <tr>\n",
       "      <th>3</th>\n",
       "      <td>0.4</td>\n",
       "      <td>0.679324</td>\n",
       "      <td>4.0</td>\n",
       "    </tr>\n",
       "    <tr>\n",
       "      <th>4</th>\n",
       "      <td>0.5</td>\n",
       "      <td>0.675156</td>\n",
       "      <td>5.0</td>\n",
       "    </tr>\n",
       "    <tr>\n",
       "      <th>...</th>\n",
       "      <td>...</td>\n",
       "      <td>...</td>\n",
       "      <td>...</td>\n",
       "    </tr>\n",
       "    <tr>\n",
       "      <th>95</th>\n",
       "      <td>9.6</td>\n",
       "      <td>0.493855</td>\n",
       "      <td>2.0</td>\n",
       "    </tr>\n",
       "    <tr>\n",
       "      <th>96</th>\n",
       "      <td>9.7</td>\n",
       "      <td>0.493206</td>\n",
       "      <td>2.0</td>\n",
       "    </tr>\n",
       "    <tr>\n",
       "      <th>97</th>\n",
       "      <td>9.8</td>\n",
       "      <td>0.492550</td>\n",
       "      <td>2.0</td>\n",
       "    </tr>\n",
       "    <tr>\n",
       "      <th>98</th>\n",
       "      <td>9.9</td>\n",
       "      <td>0.491888</td>\n",
       "      <td>2.0</td>\n",
       "    </tr>\n",
       "    <tr>\n",
       "      <th>99</th>\n",
       "      <td>10.0</td>\n",
       "      <td>0.491220</td>\n",
       "      <td>2.0</td>\n",
       "    </tr>\n",
       "  </tbody>\n",
       "</table>\n",
       "<p>100 rows × 3 columns</p>\n",
       "</div>"
      ],
      "text/plain": [
       "    param_value  r2_result  number_of_features\n",
       "0           0.1   0.691516                 5.0\n",
       "1           0.2   0.686070                 4.0\n",
       "2           0.3   0.682966                 4.0\n",
       "3           0.4   0.679324                 4.0\n",
       "4           0.5   0.675156                 5.0\n",
       "..          ...        ...                 ...\n",
       "95          9.6   0.493855                 2.0\n",
       "96          9.7   0.493206                 2.0\n",
       "97          9.8   0.492550                 2.0\n",
       "98          9.9   0.491888                 2.0\n",
       "99         10.0   0.491220                 2.0\n",
       "\n",
       "[100 rows x 3 columns]"
      ]
     },
     "execution_count": 42,
     "metadata": {},
     "output_type": "execute_result"
    }
   ],
   "source": [
    "lasso_df.sort_values(by='r2_result', ascending=False)"
   ]
  },
  {
   "cell_type": "code",
   "execution_count": 43,
   "id": "1850a326-c976-4433-8b38-679f02980305",
   "metadata": {},
   "outputs": [],
   "source": [
    "ridge_df = pd.DataFrame({'param_value': np.arange(0.1, 10.1, 0.1), 'r2_result': np.NaN, 'number_of_features': np.NaN})"
   ]
  },
  {
   "cell_type": "code",
   "execution_count": 44,
   "id": "1d09fd8c-9277-42f4-b747-ca5392c6d3bc",
   "metadata": {},
   "outputs": [],
   "source": [
    "for i in ridge_df.values:\n",
    "    alpha = i[0]\n",
    "    ridge = Ridge(alpha=alpha)\n",
    "    ridge.fit(X_train, y_train)\n",
    "    i[1] = r2_score(y_test, ridge.predict(X_test))\n",
    "    i[2] = len(ridge.coef_[ridge.coef_ > 0])"
   ]
  },
  {
   "cell_type": "code",
   "execution_count": 45,
   "id": "9f58b78b-c111-4fd9-ba6a-48aa537e2f2a",
   "metadata": {},
   "outputs": [
    {
     "data": {
      "text/html": [
       "<div>\n",
       "<style scoped>\n",
       "    .dataframe tbody tr th:only-of-type {\n",
       "        vertical-align: middle;\n",
       "    }\n",
       "\n",
       "    .dataframe tbody tr th {\n",
       "        vertical-align: top;\n",
       "    }\n",
       "\n",
       "    .dataframe thead th {\n",
       "        text-align: right;\n",
       "    }\n",
       "</style>\n",
       "<table border=\"1\" class=\"dataframe\">\n",
       "  <thead>\n",
       "    <tr style=\"text-align: right;\">\n",
       "      <th></th>\n",
       "      <th>param_value</th>\n",
       "      <th>r2_result</th>\n",
       "      <th>number_of_features</th>\n",
       "    </tr>\n",
       "  </thead>\n",
       "  <tbody>\n",
       "    <tr>\n",
       "      <th>2</th>\n",
       "      <td>0.3</td>\n",
       "      <td>0.706163</td>\n",
       "      <td>6.0</td>\n",
       "    </tr>\n",
       "    <tr>\n",
       "      <th>3</th>\n",
       "      <td>0.4</td>\n",
       "      <td>0.706132</td>\n",
       "      <td>6.0</td>\n",
       "    </tr>\n",
       "    <tr>\n",
       "      <th>1</th>\n",
       "      <td>0.2</td>\n",
       "      <td>0.706122</td>\n",
       "      <td>6.0</td>\n",
       "    </tr>\n",
       "    <tr>\n",
       "      <th>4</th>\n",
       "      <td>0.5</td>\n",
       "      <td>0.706053</td>\n",
       "      <td>6.0</td>\n",
       "    </tr>\n",
       "    <tr>\n",
       "      <th>0</th>\n",
       "      <td>0.1</td>\n",
       "      <td>0.705976</td>\n",
       "      <td>7.0</td>\n",
       "    </tr>\n",
       "    <tr>\n",
       "      <th>...</th>\n",
       "      <td>...</td>\n",
       "      <td>...</td>\n",
       "      <td>...</td>\n",
       "    </tr>\n",
       "    <tr>\n",
       "      <th>95</th>\n",
       "      <td>9.6</td>\n",
       "      <td>0.697811</td>\n",
       "      <td>5.0</td>\n",
       "    </tr>\n",
       "    <tr>\n",
       "      <th>96</th>\n",
       "      <td>9.7</td>\n",
       "      <td>0.697763</td>\n",
       "      <td>5.0</td>\n",
       "    </tr>\n",
       "    <tr>\n",
       "      <th>97</th>\n",
       "      <td>9.8</td>\n",
       "      <td>0.697716</td>\n",
       "      <td>5.0</td>\n",
       "    </tr>\n",
       "    <tr>\n",
       "      <th>98</th>\n",
       "      <td>9.9</td>\n",
       "      <td>0.697669</td>\n",
       "      <td>5.0</td>\n",
       "    </tr>\n",
       "    <tr>\n",
       "      <th>99</th>\n",
       "      <td>10.0</td>\n",
       "      <td>0.697622</td>\n",
       "      <td>5.0</td>\n",
       "    </tr>\n",
       "  </tbody>\n",
       "</table>\n",
       "<p>100 rows × 3 columns</p>\n",
       "</div>"
      ],
      "text/plain": [
       "    param_value  r2_result  number_of_features\n",
       "2           0.3   0.706163                 6.0\n",
       "3           0.4   0.706132                 6.0\n",
       "1           0.2   0.706122                 6.0\n",
       "4           0.5   0.706053                 6.0\n",
       "0           0.1   0.705976                 7.0\n",
       "..          ...        ...                 ...\n",
       "95          9.6   0.697811                 5.0\n",
       "96          9.7   0.697763                 5.0\n",
       "97          9.8   0.697716                 5.0\n",
       "98          9.9   0.697669                 5.0\n",
       "99         10.0   0.697622                 5.0\n",
       "\n",
       "[100 rows x 3 columns]"
      ]
     },
     "execution_count": 45,
     "metadata": {},
     "output_type": "execute_result"
    }
   ],
   "source": [
    "ridge_df.sort_values(by='r2_result', ascending=False)"
   ]
  },
  {
   "cell_type": "code",
   "execution_count": 46,
   "id": "dd5570e4-7556-4c30-aaa4-72964cf6f130",
   "metadata": {},
   "outputs": [],
   "source": [
    "en_df = pd.DataFrame({'param_value': np.arange(0.1, 10.1, 0.1), 'r2_result': np.NaN, 'number_of_features': np.NaN})"
   ]
  },
  {
   "cell_type": "code",
   "execution_count": 47,
   "id": "4bf09c3c-24c4-4b6e-8409-784d1467af36",
   "metadata": {},
   "outputs": [],
   "source": [
    "for i in en_df.values:\n",
    "    alpha = i[0]\n",
    "    en = ElasticNet(alpha=alpha)\n",
    "    en.fit(X_train, y_train)\n",
    "    i[1] = r2_score(y_test, en.predict(X_test))\n",
    "    i[2] = len(en.coef_[en.coef_ > 0])"
   ]
  },
  {
   "cell_type": "code",
   "execution_count": 48,
   "id": "3b706604-564e-449f-a717-6b79ffea018e",
   "metadata": {},
   "outputs": [
    {
     "data": {
      "text/html": [
       "<div>\n",
       "<style scoped>\n",
       "    .dataframe tbody tr th:only-of-type {\n",
       "        vertical-align: middle;\n",
       "    }\n",
       "\n",
       "    .dataframe tbody tr th {\n",
       "        vertical-align: top;\n",
       "    }\n",
       "\n",
       "    .dataframe thead th {\n",
       "        text-align: right;\n",
       "    }\n",
       "</style>\n",
       "<table border=\"1\" class=\"dataframe\">\n",
       "  <thead>\n",
       "    <tr style=\"text-align: right;\">\n",
       "      <th></th>\n",
       "      <th>param_value</th>\n",
       "      <th>r2_result</th>\n",
       "      <th>number_of_features</th>\n",
       "    </tr>\n",
       "  </thead>\n",
       "  <tbody>\n",
       "    <tr>\n",
       "      <th>0</th>\n",
       "      <td>0.1</td>\n",
       "      <td>0.690076</td>\n",
       "      <td>5.0</td>\n",
       "    </tr>\n",
       "    <tr>\n",
       "      <th>1</th>\n",
       "      <td>0.2</td>\n",
       "      <td>0.682695</td>\n",
       "      <td>5.0</td>\n",
       "    </tr>\n",
       "    <tr>\n",
       "      <th>2</th>\n",
       "      <td>0.3</td>\n",
       "      <td>0.676511</td>\n",
       "      <td>6.0</td>\n",
       "    </tr>\n",
       "    <tr>\n",
       "      <th>3</th>\n",
       "      <td>0.4</td>\n",
       "      <td>0.671770</td>\n",
       "      <td>5.0</td>\n",
       "    </tr>\n",
       "    <tr>\n",
       "      <th>4</th>\n",
       "      <td>0.5</td>\n",
       "      <td>0.667381</td>\n",
       "      <td>5.0</td>\n",
       "    </tr>\n",
       "    <tr>\n",
       "      <th>...</th>\n",
       "      <td>...</td>\n",
       "      <td>...</td>\n",
       "      <td>...</td>\n",
       "    </tr>\n",
       "    <tr>\n",
       "      <th>95</th>\n",
       "      <td>9.6</td>\n",
       "      <td>0.512364</td>\n",
       "      <td>3.0</td>\n",
       "    </tr>\n",
       "    <tr>\n",
       "      <th>96</th>\n",
       "      <td>9.7</td>\n",
       "      <td>0.511711</td>\n",
       "      <td>3.0</td>\n",
       "    </tr>\n",
       "    <tr>\n",
       "      <th>97</th>\n",
       "      <td>9.8</td>\n",
       "      <td>0.511055</td>\n",
       "      <td>3.0</td>\n",
       "    </tr>\n",
       "    <tr>\n",
       "      <th>98</th>\n",
       "      <td>9.9</td>\n",
       "      <td>0.510389</td>\n",
       "      <td>3.0</td>\n",
       "    </tr>\n",
       "    <tr>\n",
       "      <th>99</th>\n",
       "      <td>10.0</td>\n",
       "      <td>0.509737</td>\n",
       "      <td>3.0</td>\n",
       "    </tr>\n",
       "  </tbody>\n",
       "</table>\n",
       "<p>100 rows × 3 columns</p>\n",
       "</div>"
      ],
      "text/plain": [
       "    param_value  r2_result  number_of_features\n",
       "0           0.1   0.690076                 5.0\n",
       "1           0.2   0.682695                 5.0\n",
       "2           0.3   0.676511                 6.0\n",
       "3           0.4   0.671770                 5.0\n",
       "4           0.5   0.667381                 5.0\n",
       "..          ...        ...                 ...\n",
       "95          9.6   0.512364                 3.0\n",
       "96          9.7   0.511711                 3.0\n",
       "97          9.8   0.511055                 3.0\n",
       "98          9.9   0.510389                 3.0\n",
       "99         10.0   0.509737                 3.0\n",
       "\n",
       "[100 rows x 3 columns]"
      ]
     },
     "execution_count": 48,
     "metadata": {},
     "output_type": "execute_result"
    }
   ],
   "source": [
    "en_df.sort_values(by='r2_result', ascending=False)"
   ]
  },
  {
   "cell_type": "code",
   "execution_count": 49,
   "id": "859c714e-916e-4ba7-87b2-5341fc832cb1",
   "metadata": {},
   "outputs": [
    {
     "data": {
      "image/png": "[encoded data removed]",
      "text/plain": [
       "<Figure size 640x480 with 1 Axes>"
      ]
     },
     "metadata": {},
     "output_type": "display_data"
    }
   ],
   "source": [
    "plt.scatter(lasso_df.param_value, lasso_df.r2_result*10, edgecolor='gold', facecolor='none', s=8)\n",
    "plt.scatter(lasso_df.param_value, lasso_df.number_of_features, facecolor='none', edgecolor='green', s=5)\n",
    "plt.show()"
   ]
  },
  {
   "cell_type": "code",
   "execution_count": 50,
   "id": "641cd6b7-c3cf-46da-a12f-80fe1a87724c",
   "metadata": {},
   "outputs": [
    {
     "data": {
      "image/png": "[encoded data removed]",
      "text/plain": [
       "<Figure size 640x480 with 1 Axes>"
      ]
     },
     "metadata": {},
     "output_type": "display_data"
    }
   ],
   "source": [
    "plt.scatter(ridge_df.param_value, ridge_df.r2_result*10, edgecolor='gold', facecolor='none', s=8)\n",
    "plt.scatter(ridge_df.param_value, ridge_df.number_of_features, facecolor='none', edgecolor='green', s=5)\n",
    "plt.show()"
   ]
  },
  {
   "cell_type": "code",
   "execution_count": 51,
   "id": "08269ba9-5a14-4960-af02-4d2a93319d1f",
   "metadata": {},
   "outputs": [
    {
     "data": {
      "image/png": "[encoded data removed]",
      "text/plain": [
       "<Figure size 640x480 with 1 Axes>"
      ]
     },
     "metadata": {},
     "output_type": "display_data"
    }
   ],
   "source": [
    "plt.scatter(en_df.param_value, en_df.r2_result*10, edgecolor='gold', facecolor='none', s=8)\n",
    "plt.scatter(en_df.param_value, en_df.number_of_features, facecolor='none', edgecolor='green', s=5)\n",
    "plt.show()"
   ]
  }
 ],
 "metadata": {
  "kernelspec": {
   "display_name": "Python 3 (ipykernel)",
   "language": "python",
   "name": "python3"
  },
  "language_info": {
   "codemirror_mode": {
    "name": "ipython",
    "version": 3
   },
   "file_extension": ".py",
   "mimetype": "text/x-python",
   "name": "python",
   "nbconvert_exporter": "python",
   "pygments_lexer": "ipython3",
   "version": "3.11.3"
  }
 },
 "nbformat": 4,
 "nbformat_minor": 5
}
