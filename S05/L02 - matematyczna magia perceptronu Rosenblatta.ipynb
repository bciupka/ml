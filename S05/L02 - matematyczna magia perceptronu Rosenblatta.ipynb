{
 "cells": [
  {
   "cell_type": "code",
   "execution_count": 1,
   "id": "043a9b58-ef23-4b5e-989c-09feba27cd10",
   "metadata": {},
   "outputs": [],
   "source": [
    "import numpy as np"
   ]
  },
  {
   "cell_type": "code",
   "execution_count": 2,
   "id": "db841444-cdfb-4684-825f-e6d267dfcc13",
   "metadata": {},
   "outputs": [
    {
     "data": {
      "text/plain": [
       "array([[-25, -24, -23, -22, -21],\n",
       "       [-20, -19, -18, -17, -16],\n",
       "       [-15, -14, -13, -12, -11],\n",
       "       [-10,  -9,  -8,  -7,  -6],\n",
       "       [ -5,  -4,  -3,  -2,  -1],\n",
       "       [  0,   1,   2,   3,   4],\n",
       "       [  5,   6,   7,   8,   9],\n",
       "       [ 10,  11,  12,  13,  14],\n",
       "       [ 15,  16,  17,  18,  19],\n",
       "       [ 20,  21,  22,  23,  24]])"
      ]
     },
     "execution_count": 2,
     "metadata": {},
     "output_type": "execute_result"
    }
   ],
   "source": [
    "X = np.arange(-25, 25, 1).reshape(10, 5)\n",
    "X"
   ]
  },
  {
   "cell_type": "code",
   "execution_count": 3,
   "id": "7b0c5412-e5ee-47c0-94bb-346d2d68c899",
   "metadata": {},
   "outputs": [
    {
     "data": {
      "text/plain": [
       "array([[1.],\n",
       "       [1.],\n",
       "       [1.],\n",
       "       [1.],\n",
       "       [1.],\n",
       "       [1.],\n",
       "       [1.],\n",
       "       [1.],\n",
       "       [1.],\n",
       "       [1.]])"
      ]
     },
     "execution_count": 3,
     "metadata": {},
     "output_type": "execute_result"
    }
   ],
   "source": [
    "ones = np.ones((10,1))\n",
    "ones"
   ]
  },
  {
   "cell_type": "code",
   "execution_count": 4,
   "id": "ad8cdfa5-5f76-4ab7-ac94-f7ce65c15c10",
   "metadata": {},
   "outputs": [
    {
     "data": {
      "text/plain": [
       "array([[-25., -24., -23., -22., -21.,   1.],\n",
       "       [-20., -19., -18., -17., -16.,   1.],\n",
       "       [-15., -14., -13., -12., -11.,   1.],\n",
       "       [-10.,  -9.,  -8.,  -7.,  -6.,   1.],\n",
       "       [ -5.,  -4.,  -3.,  -2.,  -1.,   1.],\n",
       "       [  0.,   1.,   2.,   3.,   4.,   1.],\n",
       "       [  5.,   6.,   7.,   8.,   9.,   1.],\n",
       "       [ 10.,  11.,  12.,  13.,  14.,   1.],\n",
       "       [ 15.,  16.,  17.,  18.,  19.,   1.],\n",
       "       [ 20.,  21.,  22.,  23.,  24.,   1.]])"
      ]
     },
     "execution_count": 4,
     "metadata": {},
     "output_type": "execute_result"
    }
   ],
   "source": [
    "X_1 = np.append(X, ones, axis=1)\n",
    "X_1"
   ]
  },
  {
   "cell_type": "code",
   "execution_count": 8,
   "id": "53a076b4-7102-41e8-92ae-f3be62630ebb",
   "metadata": {},
   "outputs": [
    {
     "data": {
      "text/plain": [
       "array([0.55669213, 0.81631454, 0.92161846, 0.35909129, 0.68239541,\n",
       "       0.55711097])"
      ]
     },
     "execution_count": 8,
     "metadata": {},
     "output_type": "execute_result"
    }
   ],
   "source": [
    "w = np.random.rand(len(X_1[0,:]))\n",
    "w"
   ]
  },
  {
   "cell_type": "code",
   "execution_count": 9,
   "id": "dea9567f-c01c-457c-8127-2f5564db276c",
   "metadata": {},
   "outputs": [],
   "source": [
    "def predict(x, w):\n",
    "    total_stimulation = np.dot(x, w)\n",
    "    if total_stimulation >= 0:\n",
    "        return 1\n",
    "    else:\n",
    "        return -1"
   ]
  },
  {
   "cell_type": "code",
   "execution_count": 10,
   "id": "08457b34-b4fc-4773-a2f2-227a1335d0bb",
   "metadata": {},
   "outputs": [
    {
     "data": {
      "text/plain": [
       "-1"
      ]
     },
     "execution_count": 10,
     "metadata": {},
     "output_type": "execute_result"
    }
   ],
   "source": [
    "predict(X_1[0, :], w)"
   ]
  },
  {
   "cell_type": "code",
   "execution_count": 11,
   "id": "41fd1779-7328-4f15-83c9-8efee370ebeb",
   "metadata": {},
   "outputs": [
    {
     "name": "stdout",
     "output_type": "stream",
     "text": [
      "-1\n",
      "-1\n",
      "-1\n",
      "-1\n",
      "-1\n",
      "1\n",
      "1\n",
      "1\n",
      "1\n",
      "1\n"
     ]
    }
   ],
   "source": [
    "for i in X_1:\n",
    "    print(predict(i, w))"
   ]
  },
  {
   "cell_type": "code",
   "execution_count": null,
   "id": "1d7328df-dae9-440c-a7a3-0275793d61ca",
   "metadata": {},
   "outputs": [],
   "source": []
  }
 ],
 "metadata": {
  "kernelspec": {
   "display_name": "Python 3 (ipykernel)",
   "language": "python",
   "name": "python3"
  },
  "language_info": {
   "codemirror_mode": {
    "name": "ipython",
    "version": 3
   },
   "file_extension": ".py",
   "mimetype": "text/x-python",
   "name": "python",
   "nbconvert_exporter": "python",
   "pygments_lexer": "ipython3",
   "version": "3.11.3"
  }
 },
 "nbformat": 4,
 "nbformat_minor": 5
}
